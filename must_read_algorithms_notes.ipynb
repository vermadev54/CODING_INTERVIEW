{
 "cells": [
  {
   "cell_type": "markdown",
   "id": "69541a05",
   "metadata": {},
   "source": [
    "## 1. Singly Linked List Reversal\n",
    "Reverses a singly linked list in-place by re-pointing the `next` pointers."
   ]
  },
  {
   "cell_type": "code",
   "execution_count": null,
   "id": "f73bfb4b",
   "metadata": {},
   "outputs": [],
   "source": [
    "\n",
    "class Node:\n",
    "    def __init__(self, data):\n",
    "        self.data = data\n",
    "        self.next = None\n",
    "\n",
    "def reverse_linked_list(head):\n",
    "    prev = None\n",
    "    current = head\n",
    "    while current:\n",
    "        next_node = current.next\n",
    "        current.next = prev\n",
    "        prev = current\n",
    "        current = next_node\n",
    "    return prev\n",
    "\n",
    "# Example usage:\n",
    "head = Node(1)\n",
    "head.next = Node(2)\n",
    "head.next.next = Node(3)\n",
    "reversed_head = reverse_linked_list(head)\n",
    "while reversed_head:\n",
    "    print(reversed_head.data, end=\" -> \")\n",
    "    reversed_head = reversed_head.next\n"
   ]
  },
  {
   "cell_type": "markdown",
   "id": "99dee539",
   "metadata": {},
   "source": [
    "## 2. Floyd Cycle Detection Algorithm\n",
    "Detects a cycle in a linked list using two pointers (slow and fast)."
   ]
  },
  {
   "cell_type": "code",
   "execution_count": null,
   "id": "4b3bc309",
   "metadata": {},
   "outputs": [],
   "source": [
    "\n",
    "class Node:\n",
    "    def __init__(self, data):\n",
    "        self.data = data\n",
    "        self.next = None\n",
    "\n",
    "def has_cycle(head):\n",
    "    slow = fast = head\n",
    "    while fast and fast.next:\n",
    "        slow = slow.next\n",
    "        fast = fast.next.next\n",
    "        if slow == fast:\n",
    "            return True\n",
    "    return False\n",
    "\n",
    "# Example usage:\n",
    "head = Node(1)\n",
    "head.next = Node(2)\n",
    "head.next.next = Node(3)\n",
    "head.next.next.next = head  # Creates a cycle\n",
    "print(\"Cycle detected:\", has_cycle(head))\n"
   ]
  },
  {
   "cell_type": "markdown",
   "id": "60808ddd",
   "metadata": {},
   "source": [
    "## 3. Sliding Window\n",
    "Finds the maximum sum of a subarray with size `k`."
   ]
  },
  {
   "cell_type": "code",
   "execution_count": null,
   "id": "aa3ab1c6",
   "metadata": {},
   "outputs": [],
   "source": [
    "\n",
    "def max_subarray_sum(arr, k):\n",
    "    max_sum = current_sum = sum(arr[:k])\n",
    "    for i in range(k, len(arr)):\n",
    "        current_sum += arr[i] - arr[i - k]\n",
    "        max_sum = max(max_sum, current_sum)\n",
    "    return max_sum\n",
    "\n",
    "# Example usage:\n",
    "arr = [1, 2, 3, 4, 5, 6, 1]\n",
    "k = 3\n",
    "print(\"Maximum sum of subarray:\", max_subarray_sum(arr, k))\n"
   ]
  },
  {
   "cell_type": "markdown",
   "id": "8159c4a3",
   "metadata": {},
   "source": [
    "## 4. Binary Search\n",
    "Searches for a target element in a sorted array."
   ]
  },
  {
   "cell_type": "code",
   "execution_count": null,
   "id": "b6a63a59",
   "metadata": {},
   "outputs": [],
   "source": [
    "\n",
    "def binary_search(arr, target):\n",
    "    left, right = 0, len(arr) - 1\n",
    "    while left <= right:\n",
    "        mid = (left + right) // 2\n",
    "        if arr[mid] == target:\n",
    "            return mid\n",
    "        elif arr[mid] < target:\n",
    "            left = mid + 1\n",
    "        else:\n",
    "            right = mid - 1\n",
    "    return -1\n",
    "\n",
    "# Example usage:\n",
    "arr = [1, 2, 3, 4, 5, 6]\n",
    "target = 4\n",
    "print(\"Target found at index:\", binary_search(arr, target))\n"
   ]
  },
  {
   "cell_type": "markdown",
   "id": "5d0157e2",
   "metadata": {},
   "source": [
    "## 5. Kadane's Algorithm\n",
    "Finds the maximum sum of a contiguous subarray."
   ]
  },
  {
   "cell_type": "code",
   "execution_count": 1,
   "id": "8a2f4370",
   "metadata": {},
   "outputs": [
    {
     "name": "stdout",
     "output_type": "stream",
     "text": [
      "Maximum sum of subarray: 6\n"
     ]
    }
   ],
   "source": [
    "\n",
    "def max_subarray_sum(arr):\n",
    "    max_ending_here = max_so_far = arr[0]\n",
    "    for num in arr[1:]:\n",
    "        max_ending_here = max(num, max_ending_here + num)\n",
    "        max_so_far = max(max_so_far, max_ending_here)\n",
    "    return max_so_far\n",
    "\n",
    "# Example usage:\n",
    "arr = [-2, 1, -3, 4, -1, 2, 1, -5, 4]\n",
    "print(\"Maximum sum of subarray:\", max_subarray_sum(arr))\n"
   ]
  },
  {
   "cell_type": "markdown",
   "id": "46f0db1b",
   "metadata": {},
   "source": [
    "## 6. Quick Select\n",
    "Quick Select is used to find the k-th smallest (or largest) element in an array. It's a variant of the Quick Sort algorithm.\n",
    "https://www.youtube.com/watch?v=AqMiMkPOutQ&t=614s\n"
   ]
  },
  {
   "cell_type": "code",
   "execution_count": 2,
   "id": "02af61a7",
   "metadata": {},
   "outputs": [
    {
     "name": "stdout",
     "output_type": "stream",
     "text": [
      "3-th smallest element: 3\n"
     ]
    }
   ],
   "source": [
    "\n",
    "def quick_select(arr, k):\n",
    "    def partition(low, high):\n",
    "        pivot = arr[high]\n",
    "        i = low\n",
    "        for j in range(low, high):\n",
    "            if arr[j] <= pivot:\n",
    "                arr[i], arr[j] = arr[j], arr[i]\n",
    "                i += 1\n",
    "        arr[i], arr[high] = arr[high], arr[i]\n",
    "        return i\n",
    "\n",
    "    low, high = 0, len(arr) - 1\n",
    "    k = k - 1  # Convert to zero-based index\n",
    "    while low <= high:\n",
    "        pivot_index = partition(low, high)\n",
    "        if pivot_index == k:\n",
    "            return arr[pivot_index]\n",
    "        elif pivot_index < k:\n",
    "            low = pivot_index + 1\n",
    "        else:\n",
    "            high = pivot_index - 1\n",
    "\n",
    "# Example usage:\n",
    "arr = [3, 2, 1, 5, 4]\n",
    "k = 3\n",
    "print(f\"{k}-th smallest element:\", quick_select(arr, k))\n"
   ]
  },
  {
   "cell_type": "markdown",
   "id": "3b2e5e08",
   "metadata": {},
   "source": [
    "## 7. Insertion Sort\n",
    "Insertion Sort builds the sorted array one element at a time by placing each new element into its correct position among the previously sorted elements."
   ]
  },
  {
   "cell_type": "code",
   "execution_count": 5,
   "id": "7782e512",
   "metadata": {},
   "outputs": [
    {
     "name": "stdout",
     "output_type": "stream",
     "text": [
      "Sorted array: [1, 2, 3, 4, 5]\n"
     ]
    }
   ],
   "source": [
    "\n",
    "def insertion_sort(arr):\n",
    "    for i in range(1, len(arr)):\n",
    "        key = arr[i]\n",
    "        j = i - 1\n",
    "        while j >= 0 and arr[j] > key:\n",
    "            arr[j + 1] = arr[j]  # Shift elements\n",
    "            j -= 1\n",
    "        arr[j + 1] = key  # Place key in the correct position\n",
    "\n",
    "# Example usage:\n",
    "arr = [5, 3, 4, 1, 2]\n",
    "insertion_sort(arr)\n",
    "print(\"Sorted array:\", arr)\n"
   ]
  },
  {
   "cell_type": "markdown",
   "id": "1c6fabcf",
   "metadata": {},
   "source": [
    "## 8. Selection Sort\n",
    "Selection Sort repeatedly selects the smallest element from the unsorted portion and places it in its correct position."
   ]
  },
  {
   "cell_type": "code",
   "execution_count": null,
   "id": "dbda265b",
   "metadata": {},
   "outputs": [],
   "source": [
    "\n",
    "def selection_sort(arr):\n",
    "    for i in range(len(arr)):\n",
    "        min_index = i\n",
    "        for j in range(i + 1, len(arr)):\n",
    "            if arr[j] < arr[min_index]:\n",
    "                min_index = j\n",
    "        arr[i], arr[min_index] = arr[min_index], arr[i]\n",
    "\n",
    "# Example usage:\n",
    "arr = [64, 25, 12, 22, 11]\n",
    "selection_sort(arr)\n",
    "print(\"Sorted array:\", arr)\n"
   ]
  },
  {
   "cell_type": "markdown",
   "id": "0332cbad",
   "metadata": {},
   "source": [
    "## 9. Counting Sort\n",
    "Counting Sort is a non-comparison-based sorting algorithm that works well for small integers."
   ]
  },
  {
   "cell_type": "code",
   "execution_count": null,
   "id": "674ef043",
   "metadata": {},
   "outputs": [],
   "source": [
    "\n",
    "def counting_sort(arr):\n",
    "    max_val = max(arr)\n",
    "    count = [0] * (max_val + 1)\n",
    "    for num in arr:\n",
    "        count[num] += 1\n",
    "    sorted_arr = []\n",
    "    for i in range(len(count)):\n",
    "        sorted_arr.extend([i] * count[i])\n",
    "    return sorted_arr\n",
    "\n",
    "# Example usage:\n",
    "arr = [4, 2, 2, 8, 3, 3, 1]\n",
    "print(\"Sorted array:\", counting_sort(arr))\n"
   ]
  },
  {
   "cell_type": "markdown",
   "id": "0998a42e",
   "metadata": {},
   "source": [
    "## 10. Heap Sort\n",
    "Heap Sort builds a max heap and repeatedly extracts the maximum element to sort the array."
   ]
  },
  {
   "cell_type": "code",
   "execution_count": null,
   "id": "33624be4",
   "metadata": {},
   "outputs": [],
   "source": [
    "\n",
    "def heapify(arr, n, i):\n",
    "    largest = i\n",
    "    left = 2 * i + 1\n",
    "    right = 2 * i + 2\n",
    "    if left < n and arr[left] > arr[largest]:\n",
    "        largest = left\n",
    "    if right < n and arr[right] > arr[largest]:\n",
    "        largest = right\n",
    "    if largest != i:\n",
    "        arr[i], arr[largest] = arr[largest], arr[i]\n",
    "        heapify(arr, n, largest)\n",
    "\n",
    "def heap_sort(arr):\n",
    "    n = len(arr)\n",
    "    for i in range(n // 2 - 1, -1, -1):\n",
    "        heapify(arr, n, i)\n",
    "    for i in range(n - 1, 0, -1):\n",
    "        arr[i], arr[0] = arr[0], arr[i]\n",
    "        heapify(arr, i, 0)\n",
    "\n",
    "# Example usage:\n",
    "arr = [12, 11, 13, 5, 6, 7]\n",
    "heap_sort(arr)\n",
    "print(\"Sorted array:\", arr)\n"
   ]
  },
  {
   "cell_type": "markdown",
   "id": "476889d4",
   "metadata": {},
   "source": [
    "## 11. Merge Sort\n",
    "Merge Sort recursively divides the array into halves, sorts them, and merges them into a sorted array."
   ]
  },
  {
   "cell_type": "code",
   "execution_count": null,
   "id": "443238c8",
   "metadata": {},
   "outputs": [],
   "source": [
    "\n",
    "def merge_sort(arr):\n",
    "    if len(arr) > 1:\n",
    "        mid = len(arr) // 2\n",
    "        left = arr[:mid]\n",
    "        right = arr[mid:]\n",
    "        merge_sort(left)\n",
    "        merge_sort(right)\n",
    "        i = j = k = 0\n",
    "        while i < len(left) and j < len(right):\n",
    "            if left[i] < right[j]:\n",
    "                arr[k] = left[i]\n",
    "                i += 1\n",
    "            else:\n",
    "                arr[k] = right[j]\n",
    "                j += 1\n",
    "            k += 1\n",
    "        while i < len(left):\n",
    "            arr[k] = left[i]\n",
    "            i += 1\n",
    "            k += 1\n",
    "        while j < len(right):\n",
    "            arr[k] = right[j]\n",
    "            j += 1\n",
    "            k += 1\n",
    "\n",
    "# Example usage:\n",
    "arr = [12, 11, 13, 5, 6, 7]\n",
    "merge_sort(arr)\n",
    "print(\"Sorted array:\", arr)\n"
   ]
  },
  {
   "cell_type": "markdown",
   "id": "47b30031",
   "metadata": {},
   "source": [
    "### 12. Quick Sort\n",
    "**Explanation:** Quick Sort is a divide-and-conquer algorithm that selects a `pivot` element and partitions the other elements into subarrays, recursively sorting them."
   ]
  },
  {
   "cell_type": "code",
   "execution_count": null,
   "id": "e38d30e7",
   "metadata": {},
   "outputs": [],
   "source": [
    "\n",
    "def quick_sort(arr):\n",
    "    if len(arr) <= 1:  # Base case: if the array has one or no elements, it's already sorted\n",
    "        return arr\n",
    "    pivot = arr[len(arr) // 2]  # Choose the middle element as the pivot\n",
    "    left = [x for x in arr if x < pivot]  # Elements less than pivot\n",
    "    middle = [x for x in arr if x == pivot]  # Elements equal to pivot\n",
    "    right = [x for x in arr if x > pivot]  # Elements greater than pivot\n",
    "    return quick_sort(left) + middle + quick_sort(right)\n",
    "\n",
    "# Example usage:\n",
    "arr = [3, 6, 8, 10, 1, 2, 1]\n",
    "print(\"Sorted array:\", quick_sort(arr))\n"
   ]
  },
  {
   "cell_type": "markdown",
   "id": "963db7c1",
   "metadata": {},
   "source": [
    "### 13. Topological Sort\n",
    "**Explanation:** Topological Sort is used to order vertices in a Directed Acyclic Graph (DAG) such that for every directed edge `u → v`, vertex `u` appears before `v`."
   ]
  },
  {
   "cell_type": "code",
   "execution_count": 3,
   "id": "041b877c",
   "metadata": {},
   "outputs": [
    {
     "name": "stdout",
     "output_type": "stream",
     "text": [
      "Topological Order: [4, 5, 2, 0, 3, 1]\n"
     ]
    }
   ],
   "source": [
    "\n",
    "from collections import defaultdict, deque\n",
    "\n",
    "def topological_sort(vertices, edges):\n",
    "    graph = defaultdict(list)\n",
    "    in_degree = {i: 0 for i in range(vertices)}  # Initialize in-degrees to 0\n",
    "    \n",
    "    # Build the graph and compute in-degrees\n",
    "    for u, v in edges:\n",
    "        graph[u].append(v)\n",
    "        in_degree[v] += 1\n",
    "    \n",
    "    # Collect nodes with in-degree of 0\n",
    "    queue = deque([v for v in in_degree if in_degree[v] == 0])\n",
    "    topo_order = []\n",
    "    \n",
    "    while queue:\n",
    "        current = queue.popleft()\n",
    "        topo_order.append(current)\n",
    "        for neighbor in graph[current]:\n",
    "            in_degree[neighbor] -= 1  # Decrement in-degree\n",
    "            if in_degree[neighbor] == 0:  # If in-degree becomes 0, add to queue\n",
    "                queue.append(neighbor)\n",
    "    \n",
    "    return topo_order\n",
    "\n",
    "# Example usage:\n",
    "vertices = 6\n",
    "edges = [(5, 2), (5, 0), (4, 0), (4, 1), (2, 3), (3, 1)]\n",
    "print(\"Topological Order:\", topological_sort(vertices, edges))\n"
   ]
  },
  {
   "cell_type": "markdown",
   "id": "ac90e08d",
   "metadata": {},
   "source": [
    "### 14. Zigzag Traversal of a Matrix\n",
    "**Explanation:** Traverses a matrix in a zigzag pattern by alternating between downward-diagonal and upward-diagonal directions."
   ]
  },
  {
   "cell_type": "code",
   "execution_count": null,
   "id": "2d0832fe",
   "metadata": {},
   "outputs": [],
   "source": [
    "\n",
    "def zigzag_traversal(matrix):\n",
    "    rows, cols = len(matrix), len(matrix[0])\n",
    "    result = []\n",
    "    for line in range(1, (rows + cols)):\n",
    "        start_col = max(0, line - rows)\n",
    "        count = min(line, (cols - start_col), rows)\n",
    "        for j in range(count):\n",
    "            if line % 2 == 0:  # Even line: traverse upward\n",
    "                result.append(matrix[min(rows, line) - j - 1][start_col + j])\n",
    "            else:  # Odd line: traverse downward\n",
    "                result.append(matrix[j][line - j - 1])\n",
    "    return result\n",
    "\n",
    "# Example usage:\n",
    "matrix = [\n",
    "    [1, 2, 3],\n",
    "    [4, 5, 6],\n",
    "    [7, 8, 9]\n",
    "]\n",
    "print(\"Zigzag Traversal:\", zigzag_traversal(matrix))\n"
   ]
  },
  {
   "cell_type": "markdown",
   "id": "e8643070",
   "metadata": {},
   "source": [
    "### 15. Preorder Traversal of a Binary Tree\n",
    "**Explanation:** Visits nodes in the order: **Root → Left → Right**."
   ]
  },
  {
   "cell_type": "code",
   "execution_count": 4,
   "id": "e69f4e77",
   "metadata": {},
   "outputs": [
    {
     "name": "stdout",
     "output_type": "stream",
     "text": [
      "Preorder Traversal: [1, 2, 3]\n"
     ]
    }
   ],
   "source": [
    "\n",
    "class TreeNode:\n",
    "    def __init__(self, val=0, left=None, right=None):\n",
    "        self.val = val\n",
    "        self.left = left\n",
    "        self.right = right\n",
    "\n",
    "def preorder_traversal(root):\n",
    "    if not root:\n",
    "        return []\n",
    "    return [root.val] + preorder_traversal(root.left) + preorder_traversal(root.right)\n",
    "\n",
    "# Example usage:\n",
    "root = TreeNode(1)\n",
    "root.right = TreeNode(2)\n",
    "root.right.left = TreeNode(3)\n",
    "print(\"Preorder Traversal:\", preorder_traversal(root))\n"
   ]
  },
  {
   "cell_type": "markdown",
   "id": "684ea46e",
   "metadata": {},
   "source": [
    "### 16. Inorder Traversal of a Binary Tree\n",
    "**Explanation:** Visits nodes in the order: **Left → Root → Right**."
   ]
  },
  {
   "cell_type": "code",
   "execution_count": null,
   "id": "512a2270",
   "metadata": {},
   "outputs": [],
   "source": [
    "\n",
    "def inorder_traversal(root):\n",
    "    if not root:\n",
    "        return []\n",
    "    return inorder_traversal(root.left) + [root.val] + inorder_traversal(root.right)\n",
    "\n",
    "# Example usage:\n",
    "print(\"Inorder Traversal:\", inorder_traversal(root))\n"
   ]
  },
  {
   "cell_type": "markdown",
   "id": "06e8c6eb",
   "metadata": {},
   "source": [
    "### 17. Postorder Traversal of a Binary Tree\n",
    "**Explanation:** Visits nodes in the order: **Left → Right → Root**."
   ]
  },
  {
   "cell_type": "code",
   "execution_count": null,
   "id": "a94a642e",
   "metadata": {},
   "outputs": [],
   "source": [
    "\n",
    "def postorder_traversal(root):\n",
    "    if not root:\n",
    "        return []\n",
    "    return postorder_traversal(root.left) + postorder_traversal(root.right) + [root.val]\n",
    "\n",
    "# Example usage:\n",
    "print(\"Postorder Traversal:\", postorder_traversal(root))\n"
   ]
  },
  {
   "cell_type": "markdown",
   "id": "4cecdd6d",
   "metadata": {},
   "source": [
    "### 18. Level Order Traversal of a Binary Tree\n",
    "**Explanation:** Visits nodes level by level using a queue."
   ]
  },
  {
   "cell_type": "code",
   "execution_count": null,
   "id": "1ca49df3",
   "metadata": {},
   "outputs": [],
   "source": [
    "\n",
    "from collections import deque\n",
    "\n",
    "def level_order_traversal(root):\n",
    "    if not root:\n",
    "        return []\n",
    "    result, queue = [], deque([root])\n",
    "    while queue:\n",
    "        level = []\n",
    "        for _ in range(len(queue)):\n",
    "            node = queue.popleft()\n",
    "            level.append(node.val)\n",
    "            if node.left:\n",
    "                queue.append(node.left)\n",
    "            if node.right:\n",
    "                queue.append(node.right)\n",
    "        result.append(level)\n",
    "    return result\n",
    "\n",
    "# Example usage:\n",
    "print(\"Level Order Traversal:\", level_order_traversal(root))\n"
   ]
  },
  {
   "cell_type": "markdown",
   "id": "fd0cd978",
   "metadata": {},
   "source": [
    "### 19. Breadth First Search (BFS) in a Graph\n",
    "**Explanation:** BFS explores all vertices at the current depth level before moving to the next level. It uses a queue to track the vertices to be processed."
   ]
  },
  {
   "cell_type": "code",
   "execution_count": null,
   "id": "c5e82e98",
   "metadata": {},
   "outputs": [],
   "source": [
    "\n",
    "def bfs(graph, start):\n",
    "    visited = set()\n",
    "    queue = deque([start])\n",
    "    result = []\n",
    "    \n",
    "    while queue:\n",
    "        vertex = queue.popleft()\n",
    "        if vertex not in visited:\n",
    "            visited.add(vertex)\n",
    "            result.append(vertex)\n",
    "            queue.extend([neighbor for neighbor in graph[vertex] if neighbor not in visited])\n",
    "    \n",
    "    return result\n",
    "\n",
    "# Example usage:\n",
    "graph = {0: [1, 2], 1: [0, 3, 4], 2: [0, 4], 3: [1], 4: [1, 2]}\n",
    "print(\"BFS:\", bfs(graph, 0))\n"
   ]
  },
  {
   "cell_type": "markdown",
   "id": "ad2342bc",
   "metadata": {},
   "source": [
    "### 20. Depth First Search (DFS) in a Graph\n",
    "**Explanation:** DFS explores as far as possible along each branch before backtracking. It uses recursion or a stack."
   ]
  },
  {
   "cell_type": "code",
   "execution_count": null,
   "id": "41cb5f07",
   "metadata": {},
   "outputs": [],
   "source": [
    "\n",
    "def dfs(graph, start, visited=None):\n",
    "    if visited is None:\n",
    "        visited = set()\n",
    "    visited.add(start)\n",
    "    result = [start]\n",
    "    for neighbor in graph[start]:\n",
    "        if neighbor not in visited:\n",
    "            result.extend(dfs(graph, neighbor, visited))\n",
    "    return result\n",
    "\n",
    "# Example usage:\n",
    "print(\"DFS:\", dfs(graph, 0))\n"
   ]
  },
  {
   "cell_type": "markdown",
   "id": "6dfe838c",
   "metadata": {},
   "source": [
    "### 21. Flood Fill Algorithm\n",
    "**Explanation:** Modifies connected cells of the same color to a new color. This is typically implemented with DFS or BFS."
   ]
  },
  {
   "cell_type": "code",
   "execution_count": null,
   "id": "b21a8a2b",
   "metadata": {},
   "outputs": [],
   "source": [
    "\n",
    "def flood_fill(image, sr, sc, new_color):\n",
    "    old_color = image[sr][sc]\n",
    "    if old_color == new_color:\n",
    "        return image\n",
    "\n",
    "    def dfs(r, c):\n",
    "        if (0 <= r < len(image) and 0 <= c < len(image[0]) and image[r][c] == old_color):\n",
    "            image[r][c] = new_color\n",
    "            dfs(r + 1, c)\n",
    "            dfs(r - 1, c)\n",
    "            dfs(r, c + 1)\n",
    "            dfs(r, c - 1)\n",
    "\n",
    "    dfs(sr, sc)\n",
    "    return image\n",
    "\n",
    "# Example usage:\n",
    "image = [\n",
    "    [1, 1, 1],\n",
    "    [1, 1, 0],\n",
    "    [1, 0, 1]\n",
    "]\n",
    "print(\"Flood Fill Result:\", flood_fill(image, 1, 1, 2))\n"
   ]
  },
  {
   "cell_type": "markdown",
   "id": "771537d6",
   "metadata": {},
   "source": [
    "### 22. Kruskal's Algorithm\n",
    "**Explanation:** Finds the minimum spanning tree (MST) of a graph using a greedy approach. It sorts edges by weight and adds them to the MST if they do not form a cycle."
   ]
  },
  {
   "cell_type": "code",
   "execution_count": null,
   "id": "9e310c2b",
   "metadata": {},
   "outputs": [],
   "source": [
    "\n",
    "class UnionFind:\n",
    "    def __init__(self, n):\n",
    "        self.parent = list(range(n))\n",
    "        self.rank = [0] * n\n",
    "\n",
    "    def find(self, x):\n",
    "        if self.parent[x] != x:\n",
    "            self.parent[x] = self.find(self.parent[x])\n",
    "        return self.parent[x]\n",
    "\n",
    "    def union(self, x, y):\n",
    "        root_x = self.find(x)\n",
    "        root_y = self.find(y)\n",
    "        if root_x != root_y:\n",
    "            if self.rank[root_x] > self.rank[root_y]:\n",
    "                self.parent[root_y] = root_x\n",
    "            elif self.rank[root_x] < self.rank[root_y]:\n",
    "                self.parent[root_x] = root_y\n",
    "            else:\n",
    "                self.parent[root_y] = root_x\n",
    "                self.rank[root_x] += 1\n",
    "\n",
    "def kruskal(vertices, edges):\n",
    "    uf = UnionFind(vertices)\n",
    "    mst = []\n",
    "    edges.sort(key=lambda x: x[2])  # Sort by weight\n",
    "\n",
    "    for u, v, weight in edges:\n",
    "        if uf.find(u) != uf.find(v):\n",
    "            uf.union(u, v)\n",
    "            mst.append((u, v, weight))\n",
    "    return mst\n",
    "\n",
    "# Example usage:\n",
    "edges = [(0, 1, 10), (0, 2, 6), (0, 3, 5), (1, 3, 15), (2, 3, 4)]\n",
    "print(\"MST using Kruskal's Algorithm:\", kruskal(4, edges))\n"
   ]
  },
  {
   "cell_type": "markdown",
   "id": "0865c088",
   "metadata": {},
   "source": [
    "### 23. Floyd Warshall Algorithm\n",
    "**Explanation:**\n",
    "The Floyd Warshall algorithm finds the shortest paths between all pairs of vertices in a graph. It uses dynamic programming and is particularly useful for dense graphs or when we need shortest paths between all pairs."
   ]
  },
  {
   "cell_type": "code",
   "execution_count": null,
   "id": "7a712917",
   "metadata": {},
   "outputs": [],
   "source": [
    "\n",
    "def floyd_warshall(graph):\n",
    "    vertices = len(graph)\n",
    "    dist = [[float('inf')] * vertices for _ in range(vertices)]\n",
    "\n",
    "    # Initialize distances based on graph input\n",
    "    for i in range(vertices):\n",
    "        for j in range(vertices):\n",
    "            if i == j:\n",
    "                dist[i][j] = 0  # Distance to self is 0\n",
    "            elif graph[i][j]:\n",
    "                dist[i][j] = graph[i][j]  # Direct edge weight\n",
    "\n",
    "    # Update distances using the Floyd Warshall logic\n",
    "    for k in range(vertices):\n",
    "        for i in range(vertices):\n",
    "            for j in range(vertices):\n",
    "                if dist[i][j] > dist[i][k] + dist[k][j]:\n",
    "                    dist[i][j] = dist[i][k] + dist[k][j]\n",
    "\n",
    "    return dist\n",
    "\n",
    "# Example usage:\n",
    "graph = [\n",
    "    [0, 3, float('inf'), 5],\n",
    "    [2, 0, float('inf'), 4],\n",
    "    [float('inf'), 1, 0, float('inf')],\n",
    "    [float('inf'), float('inf'), 2, 0]\n",
    "]\n",
    "print(\"Shortest path matrix (Floyd Warshall):\", floyd_warshall(graph))\n"
   ]
  },
  {
   "cell_type": "markdown",
   "id": "00f784c2",
   "metadata": {},
   "source": [
    "### 24. Dijkstra's Algorithm\n",
    "**Explanation:**\n",
    "Dijkstra’s algorithm finds the shortest path from a single source to all other vertices in a graph. It uses a priority queue to efficiently select the next vertex to process."
   ]
  },
  {
   "cell_type": "code",
   "execution_count": null,
   "id": "a86b1e24",
   "metadata": {},
   "outputs": [],
   "source": [
    "\n",
    "import heapq\n",
    "\n",
    "def dijkstra(graph, start):\n",
    "    vertices = len(graph)\n",
    "    dist = [float('inf')] * vertices\n",
    "    dist[start] = 0\n",
    "    priority_queue = [(0, start)]  # (distance, vertex)\n",
    "\n",
    "    while priority_queue:\n",
    "        current_dist, current_vertex = heapq.heappop(priority_queue)\n",
    "        \n",
    "        # Skip processing if the distance is already optimized\n",
    "        if current_dist > dist[current_vertex]:\n",
    "            continue\n",
    "        \n",
    "        for neighbor, weight in enumerate(graph[current_vertex]):\n",
    "            if weight:  # Check for a valid edge\n",
    "                distance = current_dist + weight\n",
    "                if distance < dist[neighbor]:\n",
    "                    dist[neighbor] = distance\n",
    "                    heapq.heappush(priority_queue, (distance, neighbor))\n",
    "    \n",
    "    return dist\n",
    "\n",
    "# Example usage:\n",
    "graph = [\n",
    "    [0, 3, 0, 0, 0, 0],\n",
    "    [0, 0, 1, 0, 0, 0],\n",
    "    [0, 0, 0, 7, 0, 2],\n",
    "    [0, 0, 0, 0, 0, 0],\n",
    "    [0, 0, 0, 2, 0, 3],\n",
    "    [0, 0, 0, 0, 0, 0]\n",
    "]\n",
    "print(\"Shortest paths (Dijkstra's Algorithm):\", dijkstra(graph, 0))\n"
   ]
  },
  {
   "cell_type": "markdown",
   "id": "85dfbefb",
   "metadata": {},
   "source": [
    "### 25. Bellman Ford Algorithm\n",
    "**Explanation:**\n",
    "Bellman Ford algorithm is used to find the shortest path from a single source to all other vertices in a graph. It works even with negative weight edges, unlike Dijkstra’s algorithm."
   ]
  },
  {
   "cell_type": "code",
   "execution_count": null,
   "id": "bd1da08e",
   "metadata": {},
   "outputs": [],
   "source": [
    "\n",
    "def bellman_ford(vertices, edges, source):\n",
    "    dist = [float('inf')] * vertices\n",
    "    dist[source] = 0\n",
    "\n",
    "    # Relax edges up to (vertices - 1) times\n",
    "    for _ in range(vertices - 1):\n",
    "        for u, v, weight in edges:\n",
    "            if dist[u] != float('inf') and dist[u] + weight < dist[v]:\n",
    "                dist[v] = dist[u] + weight\n",
    "\n",
    "    # Check for negative weight cycles\n",
    "    for u, v, weight in edges:\n",
    "        if dist[u] != float('inf') and dist[u] + weight < dist[v]:\n",
    "            return \"Graph contains a negative weight cycle\"\n",
    "\n",
    "    return dist\n",
    "\n",
    "# Example usage:\n",
    "vertices = 5\n",
    "edges = [\n",
    "    (0, 1, -1),\n",
    "    (0, 2, 4),\n",
    "    (1, 2, 3),\n",
    "    (1, 3, 2),\n",
    "    (1, 4, 2),\n",
    "    (3, 2, 5),\n",
    "    (3, 1, 1),\n",
    "    (4, 3, -3)\n",
    "]\n",
    "print(\"Shortest paths (Bellman Ford):\", bellman_ford(vertices, edges, 0))\n"
   ]
  },
  {
   "cell_type": "markdown",
   "id": "353beec6",
   "metadata": {},
   "source": [
    "### Lee Algorithm\n",
    "**Explanation:**\n",
    "The Lee Algorithm is a BFS-based approach used for finding the shortest path in an unweighted grid or maze. It works by exploring neighbors in increasing order of distance from the starting point."
   ]
  },
  {
   "cell_type": "code",
   "execution_count": null,
   "id": "3f769ad7",
   "metadata": {},
   "outputs": [],
   "source": [
    "\n",
    "from collections import deque\n",
    "\n",
    "def lee_algorithm(grid, start, end):\n",
    "    rows, cols = len(grid), len(grid[0])\n",
    "    directions = [(0, 1), (1, 0), (0, -1), (-1, 0)]  # Directions: right, down, left, up\n",
    "    visited = [[False for _ in range(cols)] for _ in range(rows)]\n",
    "    queue = deque([(start[0], start[1], 0)])  # (row, col, distance)\n",
    "    visited[start[0]][start[1]] = True\n",
    "\n",
    "    while queue:\n",
    "        x, y, dist = queue.popleft()\n",
    "\n",
    "        if (x, y) == end:\n",
    "            return dist\n",
    "\n",
    "        for dx, dy in directions:\n",
    "            nx, ny = x + dx, y + dy\n",
    "            if 0 <= nx < rows and 0 <= ny < cols and not visited[nx][ny] and grid[nx][ny] == 0:\n",
    "                queue.append((nx, ny, dist + 1))\n",
    "                visited[nx][ny] = True\n",
    "\n",
    "    return -1  # Path not found\n",
    "\n",
    "# Example Usage:\n",
    "grid = [\n",
    "    [0, 1, 0, 0],\n",
    "    [0, 0, 0, 1],\n",
    "    [1, 1, 0, 0],\n",
    "    [0, 0, 0, 0]\n",
    "]\n",
    "start = (0, 0)  # Top-left corner\n",
    "end = (3, 3)  # Bottom-right corner\n",
    "print(\"Shortest path (Lee Algorithm):\", lee_algorithm(grid, start, end))\n"
   ]
  },
  {
   "cell_type": "markdown",
   "id": "7529a50e",
   "metadata": {},
   "source": [
    "### Graph Bipartite Check\n",
    "**Explanation:**\n",
    "A graph is bipartite if its vertices can be colored using two colors such that no two adjacent vertices share the same color."
   ]
  },
  {
   "cell_type": "code",
   "execution_count": null,
   "id": "e092b480",
   "metadata": {},
   "outputs": [],
   "source": [
    "\n",
    "def is_bipartite(graph):\n",
    "    color = {}\n",
    "\n",
    "    def bfs(start):\n",
    "        queue = [start]\n",
    "        color[start] = 0  # Start coloring with color 0\n",
    "        while queue:\n",
    "            node = queue.pop(0)\n",
    "            for neighbor in graph[node]:\n",
    "                if neighbor not in color:\n",
    "                    color[neighbor] = 1 - color[node]  # Assign opposite color\n",
    "                    queue.append(neighbor)\n",
    "                elif color[neighbor] == color[node]:\n",
    "                    return False\n",
    "        return True\n",
    "\n",
    "    for node in range(len(graph)):\n",
    "        if node not in color:\n",
    "            if not bfs(node):\n",
    "                return False\n",
    "    return True\n",
    "\n",
    "# Example Usage:\n",
    "graph = {\n",
    "    0: [1, 3],\n",
    "    1: [0, 2],\n",
    "    2: [1, 3],\n",
    "    3: [0, 2]\n",
    "}\n",
    "print(\"Graph is bipartite:\", is_bipartite(graph))\n"
   ]
  },
  {
   "cell_type": "markdown",
   "id": "902f28ab",
   "metadata": {},
   "source": [
    "### Union-Find Algorithm\n",
    "**Explanation:**\n",
    "Union-Find (or Disjoint Set Union, DSU) is used for efficiently managing connected components in a graph. It supports two main operations: find and union, and optimizations like path compression and union by rank."
   ]
  },
  {
   "cell_type": "code",
   "execution_count": null,
   "id": "95ba5cd4",
   "metadata": {},
   "outputs": [],
   "source": [
    "\n",
    "class UnionFind:\n",
    "    def __init__(self, size):\n",
    "        self.parent = list(range(size))\n",
    "        self.rank = [0] * size\n",
    "\n",
    "    def find(self, node):\n",
    "        if self.parent[node] != node:\n",
    "            self.parent[node] = self.find(self.parent[node])  # Path compression\n",
    "        return self.parent[node]\n",
    "\n",
    "    def union(self, x, y):\n",
    "        rootX = self.find(x)\n",
    "        rootY = self.find(y)\n",
    "\n",
    "        if rootX != rootY:\n",
    "            if self.rank[rootX] > self.rank[rootY]:\n",
    "                self.parent[rootY] = rootX\n",
    "            elif self.rank[rootX] < self.rank[rootY]:\n",
    "                self.parent[rootX] = rootY\n",
    "            else:\n",
    "                self.parent[rootY] = rootX\n",
    "                self.rank[rootX] += 1\n",
    "\n",
    "# Example Usage:\n",
    "uf = UnionFind(5)  # 5 nodes (0 to 4)\n",
    "uf.union(0, 1)\n",
    "uf.union(1, 2)\n",
    "print(\"0 and 2 are connected:\", uf.find(0) == uf.find(2))  # True\n",
    "print(\"3 and 4 are connected:\", uf.find(3) == uf.find(4))  # False\n"
   ]
  },
  {
   "cell_type": "markdown",
   "id": "59fb2e78",
   "metadata": {},
   "source": [
    "### KMP Algorithm\n",
    "**Explanation:**\n",
    "The KMP algorithm is an efficient string matching algorithm that searches for occurrences of a word (or pattern) within a main text. It improves on the brute force approach by avoiding unnecessary re-checking of previously matched characters."
   ]
  },
  {
   "cell_type": "code",
   "execution_count": null,
   "id": "45159132",
   "metadata": {},
   "outputs": [],
   "source": [
    "    \n",
    "def KMP_search(text, pattern):\n",
    "    # Create the partial match table (prefix table)\n",
    "    def build_partial_match_table(pattern):\n",
    "        table = [0] * len(pattern)\n",
    "        j = 0\n",
    "        for i in range(1, len(pattern)):\n",
    "            while j > 0 and pattern[i] != pattern[j]:\n",
    "                j = table[j - 1]\n",
    "            if pattern[i] == pattern[j]:\n",
    "                j += 1\n",
    "            table[i] = j\n",
    "        return table\n",
    "\n",
    "    table = build_partial_match_table(pattern)\n",
    "    j = 0  # Index for pattern\n",
    "    for i in range(len(text)):  # Traverse text\n",
    "        while j > 0 and text[i] != pattern[j]:\n",
    "            j = table[j - 1]  # Shift pattern based on the table\n",
    "        if text[i] == pattern[j]:\n",
    "            j += 1\n",
    "        if j == len(pattern):  # Match found\n",
    "            return i - j + 1  # Return starting index of match\n",
    "    return -1  # No match found\n",
    "\n",
    "# Example usage:\n",
    "text = \"ABABDABACDABABCABAB\"\n",
    "pattern = \"ABABCABAB\"\n",
    "print(\"Pattern found at index:\", KMP_search(text, pattern))\n"
   ]
  },
  {
   "cell_type": "markdown",
   "id": "d931b93a",
   "metadata": {},
   "source": [
    "### Euclid's Algorithm\n",
    "**Explanation:**\n",
    "Euclid’s Algorithm is used to find the **Greatest Common Divisor (GCD)** of two numbers. It works by repeatedly subtracting the smaller number from the larger one (or using division with remainder)."
   ]
  },
  {
   "cell_type": "code",
   "execution_count": null,
   "id": "a0f95257",
   "metadata": {},
   "outputs": [],
   "source": [
    "\n",
    "def euclid_gcd(a, b):\n",
    "    while b != 0:\n",
    "        a, b = b, a % b\n",
    "    return a\n",
    "\n",
    "# Example usage:\n",
    "a = 56\n",
    "b = 98\n",
    "print(\"GCD of\", a, \"and\", b, \"is:\", euclid_gcd(a, b))\n"
   ]
  },
  {
   "cell_type": "markdown",
   "id": "b5d25ec1",
   "metadata": {},
   "source": [
    "### Boyer-Moore Majority Vote Algorithm\n",
    "**Explanation:**\n",
    "The Boyer-Moore Majority Vote Algorithm is used to find the majority element (element that appears more than half the times) in an array."
   ]
  },
  {
   "cell_type": "code",
   "execution_count": null,
   "id": "2bbff8c1",
   "metadata": {},
   "outputs": [],
   "source": [
    "\n",
    "def boyer_moore_majority_vote(nums):\n",
    "    candidate, count = None, 0\n",
    "    for num in nums:\n",
    "        if count == 0:\n",
    "            candidate, count = num, 1\n",
    "        elif num == candidate:\n",
    "            count += 1\n",
    "        else:\n",
    "            count -= 1\n",
    "    return candidate\n",
    "\n",
    "# Example usage:\n",
    "nums = [3, 3, 4, 2, 4, 4, 2, 4, 4]\n",
    "print(\"Majority element is:\", boyer_moore_majority_vote(nums))\n"
   ]
  },
  {
   "cell_type": "markdown",
   "id": "fcb279fa",
   "metadata": {},
   "source": [
    "### Dutch National Flag Algorithm\n",
    "**Explanation:**\n",
    "The Dutch National Flag Algorithm is used to partition an array into three distinct regions. It is commonly used to solve the **3-way partitioning problem** (e.g., for sorting arrays with three distinct values like `0`, `1`, and `2`)."
   ]
  },
  {
   "cell_type": "code",
   "execution_count": null,
   "id": "6014b792",
   "metadata": {},
   "outputs": [],
   "source": [
    "\n",
    "def dutch_national_flag(arr):\n",
    "    low, mid, high = 0, 0, len(arr) - 1\n",
    "    while mid <= high:\n",
    "        if arr[mid] == 0:\n",
    "            arr[low], arr[mid] = arr[mid], arr[low]\n",
    "            low += 1\n",
    "            mid += 1\n",
    "        elif arr[mid] == 1:\n",
    "            mid += 1\n",
    "        else:\n",
    "            arr[mid], arr[high] = arr[high], arr[mid]\n",
    "            high -= 1\n",
    "    return arr\n",
    "\n",
    "# Example usage:\n",
    "arr = [0, 1, 2, 1, 0, 2, 1, 0]\n",
    "print(\"Array after Dutch National Flag partitioning:\", dutch_national_flag(arr))\n"
   ]
  },
  {
   "cell_type": "markdown",
   "id": "47b30031",
   "metadata": {},
   "source": [
    "### 12. Quick Sort\n",
    "**Explanation:** Quick Sort is a divide-and-conquer algorithm that selects a `pivot` element and partitions the other elements into subarrays, recursively sorting them."
   ]
  },
  {
   "cell_type": "code",
   "execution_count": null,
   "id": "e38d30e7",
   "metadata": {},
   "outputs": [],
   "source": [
    "\n",
    "def quick_sort(arr):\n",
    "    if len(arr) <= 1:  # Base case: if the array has one or no elements, it's already sorted\n",
    "        return arr\n",
    "    pivot = arr[len(arr) // 2]  # Choose the middle element as the pivot\n",
    "    left = [x for x in arr if x < pivot]  # Elements less than pivot\n",
    "    middle = [x for x in arr if x == pivot]  # Elements equal to pivot\n",
    "    right = [x for x in arr if x > pivot]  # Elements greater than pivot\n",
    "    return quick_sort(left) + middle + quick_sort(right)\n",
    "\n",
    "# Example usage:\n",
    "arr = [3, 6, 8, 10, 1, 2, 1]\n",
    "print(\"Sorted array:\", quick_sort(arr))\n"
   ]
  },
  {
   "cell_type": "markdown",
   "id": "963db7c1",
   "metadata": {},
   "source": [
    "### 13. Topological Sort\n",
    "**Explanation:** Topological Sort is used to order vertices in a Directed Acyclic Graph (DAG) such that for every directed edge `u → v`, vertex `u` appears before `v`."
   ]
  },
  {
   "cell_type": "code",
   "execution_count": null,
   "id": "041b877c",
   "metadata": {},
   "outputs": [],
   "source": [
    "\n",
    "from collections import defaultdict, deque\n",
    "\n",
    "def topological_sort(vertices, edges):\n",
    "    graph = defaultdict(list)\n",
    "    in_degree = {i: 0 for i in range(vertices)}  # Initialize in-degrees to 0\n",
    "    \n",
    "    # Build the graph and compute in-degrees\n",
    "    for u, v in edges:\n",
    "        graph[u].append(v)\n",
    "        in_degree[v] += 1\n",
    "    \n",
    "    # Collect nodes with in-degree of 0\n",
    "    queue = deque([v for v in in_degree if in_degree[v] == 0])\n",
    "    topo_order = []\n",
    "    \n",
    "    while queue:\n",
    "        current = queue.popleft()\n",
    "        topo_order.append(current)\n",
    "        for neighbor in graph[current]:\n",
    "            in_degree[neighbor] -= 1  # Decrement in-degree\n",
    "            if in_degree[neighbor] == 0:  # If in-degree becomes 0, add to queue\n",
    "                queue.append(neighbor)\n",
    "    \n",
    "    return topo_order\n",
    "\n",
    "# Example usage:\n",
    "vertices = 6\n",
    "edges = [(5, 2), (5, 0), (4, 0), (4, 1), (2, 3), (3, 1)]\n",
    "print(\"Topological Order:\", topological_sort(vertices, edges))\n"
   ]
  },
  {
   "cell_type": "markdown",
   "id": "ac90e08d",
   "metadata": {},
   "source": [
    "### 14. Zigzag Traversal of a Matrix\n",
    "**Explanation:** Traverses a matrix in a zigzag pattern by alternating between downward-diagonal and upward-diagonal directions."
   ]
  },
  {
   "cell_type": "code",
   "execution_count": null,
   "id": "2d0832fe",
   "metadata": {},
   "outputs": [],
   "source": [
    "\n",
    "def zigzag_traversal(matrix):\n",
    "    rows, cols = len(matrix), len(matrix[0])\n",
    "    result = []\n",
    "    for line in range(1, (rows + cols)):\n",
    "        start_col = max(0, line - rows)\n",
    "        count = min(line, (cols - start_col), rows)\n",
    "        for j in range(count):\n",
    "            if line % 2 == 0:  # Even line: traverse upward\n",
    "                result.append(matrix[min(rows, line) - j - 1][start_col + j])\n",
    "            else:  # Odd line: traverse downward\n",
    "                result.append(matrix[j][line - j - 1])\n",
    "    return result\n",
    "\n",
    "# Example usage:\n",
    "matrix = [\n",
    "    [1, 2, 3],\n",
    "    [4, 5, 6],\n",
    "    [7, 8, 9]\n",
    "]\n",
    "print(\"Zigzag Traversal:\", zigzag_traversal(matrix))\n"
   ]
  },
  {
   "cell_type": "markdown",
   "id": "e8643070",
   "metadata": {},
   "source": [
    "### 15. Preorder Traversal of a Binary Tree\n",
    "**Explanation:** Visits nodes in the order: **Root → Left → Right**."
   ]
  },
  {
   "cell_type": "code",
   "execution_count": null,
   "id": "e69f4e77",
   "metadata": {},
   "outputs": [],
   "source": [
    "\n",
    "class TreeNode:\n",
    "    def __init__(self, val=0, left=None, right=None):\n",
    "        self.val = val\n",
    "        self.left = left\n",
    "        self.right = right\n",
    "\n",
    "def preorder_traversal(root):\n",
    "    if not root:\n",
    "        return []\n",
    "    return [root.val] + preorder_traversal(root.left) + preorder_traversal(root.right)\n",
    "\n",
    "# Example usage:\n",
    "root = TreeNode(1)\n",
    "root.right = TreeNode(2)\n",
    "root.right.left = TreeNode(3)\n",
    "print(\"Preorder Traversal:\", preorder_traversal(root))\n"
   ]
  },
  {
   "cell_type": "markdown",
   "id": "684ea46e",
   "metadata": {},
   "source": [
    "### 16. Inorder Traversal of a Binary Tree\n",
    "**Explanation:** Visits nodes in the order: **Left → Root → Right**."
   ]
  },
  {
   "cell_type": "code",
   "execution_count": null,
   "id": "512a2270",
   "metadata": {},
   "outputs": [],
   "source": [
    "\n",
    "def inorder_traversal(root):\n",
    "    if not root:\n",
    "        return []\n",
    "    return inorder_traversal(root.left) + [root.val] + inorder_traversal(root.right)\n",
    "\n",
    "# Example usage:\n",
    "print(\"Inorder Traversal:\", inorder_traversal(root))\n"
   ]
  },
  {
   "cell_type": "markdown",
   "id": "06e8c6eb",
   "metadata": {},
   "source": [
    "### 17. Postorder Traversal of a Binary Tree\n",
    "**Explanation:** Visits nodes in the order: **Left → Right → Root**."
   ]
  },
  {
   "cell_type": "code",
   "execution_count": null,
   "id": "a94a642e",
   "metadata": {},
   "outputs": [],
   "source": [
    "\n",
    "def postorder_traversal(root):\n",
    "    if not root:\n",
    "        return []\n",
    "    return postorder_traversal(root.left) + postorder_traversal(root.right) + [root.val]\n",
    "\n",
    "# Example usage:\n",
    "print(\"Postorder Traversal:\", postorder_traversal(root))\n"
   ]
  },
  {
   "cell_type": "markdown",
   "id": "4cecdd6d",
   "metadata": {},
   "source": [
    "### 18. Level Order Traversal of a Binary Tree\n",
    "**Explanation:** Visits nodes level by level using a queue."
   ]
  },
  {
   "cell_type": "code",
   "execution_count": null,
   "id": "1ca49df3",
   "metadata": {},
   "outputs": [],
   "source": [
    "\n",
    "from collections import deque\n",
    "\n",
    "def level_order_traversal(root):\n",
    "    if not root:\n",
    "        return []\n",
    "    result, queue = [], deque([root])\n",
    "    while queue:\n",
    "        level = []\n",
    "        for _ in range(len(queue)):\n",
    "            node = queue.popleft()\n",
    "            level.append(node.val)\n",
    "            if node.left:\n",
    "                queue.append(node.left)\n",
    "            if node.right:\n",
    "                queue.append(node.right)\n",
    "        result.append(level)\n",
    "    return result\n",
    "\n",
    "# Example usage:\n",
    "print(\"Level Order Traversal:\", level_order_traversal(root))\n"
   ]
  },
  {
   "cell_type": "markdown",
   "id": "fd0cd978",
   "metadata": {},
   "source": [
    "### 19. Breadth First Search (BFS) in a Graph\n",
    "**Explanation:** BFS explores all vertices at the current depth level before moving to the next level. It uses a queue to track the vertices to be processed."
   ]
  },
  {
   "cell_type": "code",
   "execution_count": null,
   "id": "c5e82e98",
   "metadata": {},
   "outputs": [],
   "source": [
    "\n",
    "def bfs(graph, start):\n",
    "    visited = set()\n",
    "    queue = deque([start])\n",
    "    result = []\n",
    "    \n",
    "    while queue:\n",
    "        vertex = queue.popleft()\n",
    "        if vertex not in visited:\n",
    "            visited.add(vertex)\n",
    "            result.append(vertex)\n",
    "            queue.extend([neighbor for neighbor in graph[vertex] if neighbor not in visited])\n",
    "    \n",
    "    return result\n",
    "\n",
    "# Example usage:\n",
    "graph = {0: [1, 2], 1: [0, 3, 4], 2: [0, 4], 3: [1], 4: [1, 2]}\n",
    "print(\"BFS:\", bfs(graph, 0))\n"
   ]
  },
  {
   "cell_type": "markdown",
   "id": "ad2342bc",
   "metadata": {},
   "source": [
    "### 20. Depth First Search (DFS) in a Graph\n",
    "**Explanation:** DFS explores as far as possible along each branch before backtracking. It uses recursion or a stack."
   ]
  },
  {
   "cell_type": "code",
   "execution_count": null,
   "id": "41cb5f07",
   "metadata": {},
   "outputs": [],
   "source": [
    "\n",
    "def dfs(graph, start, visited=None):\n",
    "    if visited is None:\n",
    "        visited = set()\n",
    "    visited.add(start)\n",
    "    result = [start]\n",
    "    for neighbor in graph[start]:\n",
    "        if neighbor not in visited:\n",
    "            result.extend(dfs(graph, neighbor, visited))\n",
    "    return result\n",
    "\n",
    "# Example usage:\n",
    "print(\"DFS:\", dfs(graph, 0))\n"
   ]
  },
  {
   "cell_type": "markdown",
   "id": "6dfe838c",
   "metadata": {},
   "source": [
    "### 21. Flood Fill Algorithm\n",
    "**Explanation:** Modifies connected cells of the same color to a new color. This is typically implemented with DFS or BFS."
   ]
  },
  {
   "cell_type": "code",
   "execution_count": null,
   "id": "b21a8a2b",
   "metadata": {},
   "outputs": [],
   "source": [
    "\n",
    "def flood_fill(image, sr, sc, new_color):\n",
    "    old_color = image[sr][sc]\n",
    "    if old_color == new_color:\n",
    "        return image\n",
    "\n",
    "    def dfs(r, c):\n",
    "        if (0 <= r < len(image) and 0 <= c < len(image[0]) and image[r][c] == old_color):\n",
    "            image[r][c] = new_color\n",
    "            dfs(r + 1, c)\n",
    "            dfs(r - 1, c)\n",
    "            dfs(r, c + 1)\n",
    "            dfs(r, c - 1)\n",
    "\n",
    "    dfs(sr, sc)\n",
    "    return image\n",
    "\n",
    "# Example usage:\n",
    "image = [\n",
    "    [1, 1, 1],\n",
    "    [1, 1, 0],\n",
    "    [1, 0, 1]\n",
    "]\n",
    "print(\"Flood Fill Result:\", flood_fill(image, 1, 1, 2))\n"
   ]
  },
  {
   "cell_type": "markdown",
   "id": "771537d6",
   "metadata": {},
   "source": [
    "### 22. Kruskal's Algorithm\n",
    "**Explanation:** Finds the minimum spanning tree (MST) of a graph using a greedy approach. It sorts edges by weight and adds them to the MST if they do not form a cycle."
   ]
  },
  {
   "cell_type": "code",
   "execution_count": null,
   "id": "9e310c2b",
   "metadata": {},
   "outputs": [],
   "source": [
    "\n",
    "class UnionFind:\n",
    "    def __init__(self, n):\n",
    "        self.parent = list(range(n))\n",
    "        self.rank = [0] * n\n",
    "\n",
    "    def find(self, x):\n",
    "        if self.parent[x] != x:\n",
    "            self.parent[x] = self.find(self.parent[x])\n",
    "        return self.parent[x]\n",
    "\n",
    "    def union(self, x, y):\n",
    "        root_x = self.find(x)\n",
    "        root_y = self.find(y)\n",
    "        if root_x != root_y:\n",
    "            if self.rank[root_x] > self.rank[root_y]:\n",
    "                self.parent[root_y] = root_x\n",
    "            elif self.rank[root_x] < self.rank[root_y]:\n",
    "                self.parent[root_x] = root_y\n",
    "            else:\n",
    "                self.parent[root_y] = root_x\n",
    "                self.rank[root_x] += 1\n",
    "\n",
    "def kruskal(vertices, edges):\n",
    "    uf = UnionFind(vertices)\n",
    "    mst = []\n",
    "    edges.sort(key=lambda x: x[2])  # Sort by weight\n",
    "\n",
    "    for u, v, weight in edges:\n",
    "        if uf.find(u) != uf.find(v):\n",
    "            uf.union(u, v)\n",
    "            mst.append((u, v, weight))\n",
    "    return mst\n",
    "\n",
    "# Example usage:\n",
    "edges = [(0, 1, 10), (0, 2, 6), (0, 3, 5), (1, 3, 15), (2, 3, 4)]\n",
    "print(\"MST using Kruskal's Algorithm:\", kruskal(4, edges))\n"
   ]
  },
  {
   "cell_type": "markdown",
   "id": "0865c088",
   "metadata": {},
   "source": [
    "### 23. Floyd Warshall Algorithm\n",
    "**Explanation:**\n",
    "The Floyd Warshall algorithm finds the shortest paths between all pairs of vertices in a graph. It uses dynamic programming and is particularly useful for dense graphs or when we need shortest paths between all pairs."
   ]
  },
  {
   "cell_type": "code",
   "execution_count": null,
   "id": "7a712917",
   "metadata": {},
   "outputs": [],
   "source": [
    "\n",
    "def floyd_warshall(graph):\n",
    "    vertices = len(graph)\n",
    "    dist = [[float('inf')] * vertices for _ in range(vertices)]\n",
    "\n",
    "    # Initialize distances based on graph input\n",
    "    for i in range(vertices):\n",
    "        for j in range(vertices):\n",
    "            if i == j:\n",
    "                dist[i][j] = 0  # Distance to self is 0\n",
    "            elif graph[i][j]:\n",
    "                dist[i][j] = graph[i][j]  # Direct edge weight\n",
    "\n",
    "    # Update distances using the Floyd Warshall logic\n",
    "    for k in range(vertices):\n",
    "        for i in range(vertices):\n",
    "            for j in range(vertices):\n",
    "                if dist[i][j] > dist[i][k] + dist[k][j]:\n",
    "                    dist[i][j] = dist[i][k] + dist[k][j]\n",
    "\n",
    "    return dist\n",
    "\n",
    "# Example usage:\n",
    "graph = [\n",
    "    [0, 3, float('inf'), 5],\n",
    "    [2, 0, float('inf'), 4],\n",
    "    [float('inf'), 1, 0, float('inf')],\n",
    "    [float('inf'), float('inf'), 2, 0]\n",
    "]\n",
    "print(\"Shortest path matrix (Floyd Warshall):\", floyd_warshall(graph))\n"
   ]
  },
  {
   "cell_type": "markdown",
   "id": "00f784c2",
   "metadata": {},
   "source": [
    "### 24. Dijkstra's Algorithm\n",
    "**Explanation:**\n",
    "Dijkstra’s algorithm finds the shortest path from a single source to all other vertices in a graph. It uses a priority queue to efficiently select the next vertex to process."
   ]
  },
  {
   "cell_type": "code",
   "execution_count": null,
   "id": "a86b1e24",
   "metadata": {},
   "outputs": [],
   "source": [
    "\n",
    "import heapq\n",
    "\n",
    "def dijkstra(graph, start):\n",
    "    vertices = len(graph)\n",
    "    dist = [float('inf')] * vertices\n",
    "    dist[start] = 0\n",
    "    priority_queue = [(0, start)]  # (distance, vertex)\n",
    "\n",
    "    while priority_queue:\n",
    "        current_dist, current_vertex = heapq.heappop(priority_queue)\n",
    "        \n",
    "        # Skip processing if the distance is already optimized\n",
    "        if current_dist > dist[current_vertex]:\n",
    "            continue\n",
    "        \n",
    "        for neighbor, weight in enumerate(graph[current_vertex]):\n",
    "            if weight:  # Check for a valid edge\n",
    "                distance = current_dist + weight\n",
    "                if distance < dist[neighbor]:\n",
    "                    dist[neighbor] = distance\n",
    "                    heapq.heappush(priority_queue, (distance, neighbor))\n",
    "    \n",
    "    return dist\n",
    "\n",
    "# Example usage:\n",
    "graph = [\n",
    "    [0, 3, 0, 0, 0, 0],\n",
    "    [0, 0, 1, 0, 0, 0],\n",
    "    [0, 0, 0, 7, 0, 2],\n",
    "    [0, 0, 0, 0, 0, 0],\n",
    "    [0, 0, 0, 2, 0, 3],\n",
    "    [0, 0, 0, 0, 0, 0]\n",
    "]\n",
    "print(\"Shortest paths (Dijkstra's Algorithm):\", dijkstra(graph, 0))\n"
   ]
  },
  {
   "cell_type": "markdown",
   "id": "85dfbefb",
   "metadata": {},
   "source": [
    "### 25. Bellman Ford Algorithm\n",
    "**Explanation:**\n",
    "Bellman Ford algorithm is used to find the shortest path from a single source to all other vertices in a graph. It works even with negative weight edges, unlike Dijkstra’s algorithm."
   ]
  },
  {
   "cell_type": "code",
   "execution_count": null,
   "id": "bd1da08e",
   "metadata": {},
   "outputs": [],
   "source": [
    "\n",
    "def bellman_ford(vertices, edges, source):\n",
    "    dist = [float('inf')] * vertices\n",
    "    dist[source] = 0\n",
    "\n",
    "    # Relax edges up to (vertices - 1) times\n",
    "    for _ in range(vertices - 1):\n",
    "        for u, v, weight in edges:\n",
    "            if dist[u] != float('inf') and dist[u] + weight < dist[v]:\n",
    "                dist[v] = dist[u] + weight\n",
    "\n",
    "    # Check for negative weight cycles\n",
    "    for u, v, weight in edges:\n",
    "        if dist[u] != float('inf') and dist[u] + weight < dist[v]:\n",
    "            return \"Graph contains a negative weight cycle\"\n",
    "\n",
    "    return dist\n",
    "\n",
    "# Example usage:\n",
    "vertices = 5\n",
    "edges = [\n",
    "    (0, 1, -1),\n",
    "    (0, 2, 4),\n",
    "    (1, 2, 3),\n",
    "    (1, 3, 2),\n",
    "    (1, 4, 2),\n",
    "    (3, 2, 5),\n",
    "    (3, 1, 1),\n",
    "    (4, 3, -3)\n",
    "]\n",
    "print(\"Shortest paths (Bellman Ford):\", bellman_ford(vertices, edges, 0))\n"
   ]
  },
  {
   "cell_type": "markdown",
   "id": "353beec6",
   "metadata": {},
   "source": [
    "### Lee Algorithm\n",
    "**Explanation:**\n",
    "The Lee Algorithm is a BFS-based approach used for finding the shortest path in an unweighted grid or maze. It works by exploring neighbors in increasing order of distance from the starting point."
   ]
  },
  {
   "cell_type": "code",
   "execution_count": null,
   "id": "3f769ad7",
   "metadata": {},
   "outputs": [],
   "source": [
    "\n",
    "from collections import deque\n",
    "\n",
    "def lee_algorithm(grid, start, end):\n",
    "    rows, cols = len(grid), len(grid[0])\n",
    "    directions = [(0, 1), (1, 0), (0, -1), (-1, 0)]  # Directions: right, down, left, up\n",
    "    visited = [[False for _ in range(cols)] for _ in range(rows)]\n",
    "    queue = deque([(start[0], start[1], 0)])  # (row, col, distance)\n",
    "    visited[start[0]][start[1]] = True\n",
    "\n",
    "    while queue:\n",
    "        x, y, dist = queue.popleft()\n",
    "\n",
    "        if (x, y) == end:\n",
    "            return dist\n",
    "\n",
    "        for dx, dy in directions:\n",
    "            nx, ny = x + dx, y + dy\n",
    "            if 0 <= nx < rows and 0 <= ny < cols and not visited[nx][ny] and grid[nx][ny] == 0:\n",
    "                queue.append((nx, ny, dist + 1))\n",
    "                visited[nx][ny] = True\n",
    "\n",
    "    return -1  # Path not found\n",
    "\n",
    "# Example Usage:\n",
    "grid = [\n",
    "    [0, 1, 0, 0],\n",
    "    [0, 0, 0, 1],\n",
    "    [1, 1, 0, 0],\n",
    "    [0, 0, 0, 0]\n",
    "]\n",
    "start = (0, 0)  # Top-left corner\n",
    "end = (3, 3)  # Bottom-right corner\n",
    "print(\"Shortest path (Lee Algorithm):\", lee_algorithm(grid, start, end))\n"
   ]
  },
  {
   "cell_type": "markdown",
   "id": "7529a50e",
   "metadata": {},
   "source": [
    "### Graph Bipartite Check\n",
    "**Explanation:**\n",
    "A graph is bipartite if its vertices can be colored using two colors such that no two adjacent vertices share the same color."
   ]
  },
  {
   "cell_type": "code",
   "execution_count": null,
   "id": "e092b480",
   "metadata": {},
   "outputs": [],
   "source": [
    "\n",
    "def is_bipartite(graph):\n",
    "    color = {}\n",
    "\n",
    "    def bfs(start):\n",
    "        queue = [start]\n",
    "        color[start] = 0  # Start coloring with color 0\n",
    "        while queue:\n",
    "            node = queue.pop(0)\n",
    "            for neighbor in graph[node]:\n",
    "                if neighbor not in color:\n",
    "                    color[neighbor] = 1 - color[node]  # Assign opposite color\n",
    "                    queue.append(neighbor)\n",
    "                elif color[neighbor] == color[node]:\n",
    "                    return False\n",
    "        return True\n",
    "\n",
    "    for node in range(len(graph)):\n",
    "        if node not in color:\n",
    "            if not bfs(node):\n",
    "                return False\n",
    "    return True\n",
    "\n",
    "# Example Usage:\n",
    "graph = {\n",
    "    0: [1, 3],\n",
    "    1: [0, 2],\n",
    "    2: [1, 3],\n",
    "    3: [0, 2]\n",
    "}\n",
    "print(\"Graph is bipartite:\", is_bipartite(graph))\n"
   ]
  },
  {
   "cell_type": "markdown",
   "id": "902f28ab",
   "metadata": {},
   "source": [
    "### Union-Find Algorithm\n",
    "**Explanation:**\n",
    "Union-Find (or Disjoint Set Union, DSU) is used for efficiently managing connected components in a graph. It supports two main operations: find and union, and optimizations like path compression and union by rank."
   ]
  },
  {
   "cell_type": "code",
   "execution_count": null,
   "id": "95ba5cd4",
   "metadata": {},
   "outputs": [],
   "source": [
    "\n",
    "class UnionFind:\n",
    "    def __init__(self, size):\n",
    "        self.parent = list(range(size))\n",
    "        self.rank = [0] * size\n",
    "\n",
    "    def find(self, node):\n",
    "        if self.parent[node] != node:\n",
    "            self.parent[node] = self.find(self.parent[node])  # Path compression\n",
    "        return self.parent[node]\n",
    "\n",
    "    def union(self, x, y):\n",
    "        rootX = self.find(x)\n",
    "        rootY = self.find(y)\n",
    "\n",
    "        if rootX != rootY:\n",
    "            if self.rank[rootX] > self.rank[rootY]:\n",
    "                self.parent[rootY] = rootX\n",
    "            elif self.rank[rootX] < self.rank[rootY]:\n",
    "                self.parent[rootX] = rootY\n",
    "            else:\n",
    "                self.parent[rootY] = rootX\n",
    "                self.rank[rootX] += 1\n",
    "\n",
    "# Example Usage:\n",
    "uf = UnionFind(5)  # 5 nodes (0 to 4)\n",
    "uf.union(0, 1)\n",
    "uf.union(1, 2)\n",
    "print(\"0 and 2 are connected:\", uf.find(0) == uf.find(2))  # True\n",
    "print(\"3 and 4 are connected:\", uf.find(3) == uf.find(4))  # False\n"
   ]
  },
  {
   "cell_type": "markdown",
   "id": "59fb2e78",
   "metadata": {},
   "source": [
    "### KMP Algorithm\n",
    "**Explanation:**\n",
    "The KMP algorithm is an efficient string matching algorithm that searches for occurrences of a word (or pattern) within a main text. It improves on the brute force approach by avoiding unnecessary re-checking of previously matched characters."
   ]
  },
  {
   "cell_type": "code",
   "execution_count": null,
   "id": "45159132",
   "metadata": {},
   "outputs": [],
   "source": [
    "    \n",
    "def KMP_search(text, pattern):\n",
    "    # Create the partial match table (prefix table)\n",
    "    def build_partial_match_table(pattern):\n",
    "        table = [0] * len(pattern)\n",
    "        j = 0\n",
    "        for i in range(1, len(pattern)):\n",
    "            while j > 0 and pattern[i] != pattern[j]:\n",
    "                j = table[j - 1]\n",
    "            if pattern[i] == pattern[j]:\n",
    "                j += 1\n",
    "            table[i] = j\n",
    "        return table\n",
    "\n",
    "    table = build_partial_match_table(pattern)\n",
    "    j = 0  # Index for pattern\n",
    "    for i in range(len(text)):  # Traverse text\n",
    "        while j > 0 and text[i] != pattern[j]:\n",
    "            j = table[j - 1]  # Shift pattern based on the table\n",
    "        if text[i] == pattern[j]:\n",
    "            j += 1\n",
    "        if j == len(pattern):  # Match found\n",
    "            return i - j + 1  # Return starting index of match\n",
    "    return -1  # No match found\n",
    "\n",
    "# Example usage:\n",
    "text = \"ABABDABACDABABCABAB\"\n",
    "pattern = \"ABABCABAB\"\n",
    "print(\"Pattern found at index:\", KMP_search(text, pattern))\n"
   ]
  },
  {
   "cell_type": "markdown",
   "id": "d931b93a",
   "metadata": {},
   "source": [
    "### Euclid's Algorithm\n",
    "**Explanation:**\n",
    "Euclid’s Algorithm is used to find the **Greatest Common Divisor (GCD)** of two numbers. It works by repeatedly subtracting the smaller number from the larger one (or using division with remainder)."
   ]
  },
  {
   "cell_type": "code",
   "execution_count": null,
   "id": "a0f95257",
   "metadata": {},
   "outputs": [],
   "source": [
    "\n",
    "def euclid_gcd(a, b):\n",
    "    while b != 0:\n",
    "        a, b = b, a % b\n",
    "    return a\n",
    "\n",
    "# Example usage:\n",
    "a = 56\n",
    "b = 98\n",
    "print(\"GCD of\", a, \"and\", b, \"is:\", euclid_gcd(a, b))\n"
   ]
  },
  {
   "cell_type": "markdown",
   "id": "b5d25ec1",
   "metadata": {},
   "source": [
    "### Boyer-Moore Majority Vote Algorithm\n",
    "**Explanation:**\n",
    "The Boyer-Moore Majority Vote Algorithm is used to find the majority element (element that appears more than half the times) in an array."
   ]
  },
  {
   "cell_type": "code",
   "execution_count": null,
   "id": "2bbff8c1",
   "metadata": {},
   "outputs": [],
   "source": [
    "\n",
    "def boyer_moore_majority_vote(nums):\n",
    "    candidate, count = None, 0\n",
    "    for num in nums:\n",
    "        if count == 0:\n",
    "            candidate, count = num, 1\n",
    "        elif num == candidate:\n",
    "            count += 1\n",
    "        else:\n",
    "            count -= 1\n",
    "    return candidate\n",
    "\n",
    "# Example usage:\n",
    "nums = [3, 3, 4, 2, 4, 4, 2, 4, 4]\n",
    "print(\"Majority element is:\", boyer_moore_majority_vote(nums))\n"
   ]
  },
  {
   "cell_type": "markdown",
   "id": "fcb279fa",
   "metadata": {},
   "source": [
    "### Dutch National Flag Algorithm\n",
    "**Explanation:**\n",
    "The Dutch National Flag Algorithm is used to partition an array into three distinct regions. It is commonly used to solve the **3-way partitioning problem** (e.g., for sorting arrays with three distinct values like `0`, `1`, and `2`)."
   ]
  },
  {
   "cell_type": "code",
   "execution_count": null,
   "id": "6014b792",
   "metadata": {},
   "outputs": [],
   "source": [
    "\n",
    "def dutch_national_flag(arr):\n",
    "    low, mid, high = 0, 0, len(arr) - 1\n",
    "    while mid <= high:\n",
    "        if arr[mid] == 0:\n",
    "            arr[low], arr[mid] = arr[mid], arr[low]\n",
    "            low += 1\n",
    "            mid += 1\n",
    "        elif arr[mid] == 1:\n",
    "            mid += 1\n",
    "        else:\n",
    "            arr[mid], arr[high] = arr[high], arr[mid]\n",
    "            high -= 1\n",
    "    return arr\n",
    "\n",
    "# Example usage:\n",
    "arr = [0, 1, 2, 1, 0, 2, 1, 0]\n",
    "print(\"Array after Dutch National Flag partitioning:\", dutch_national_flag(arr))\n"
   ]
  },
  {
   "cell_type": "markdown",
   "id": "2a868485",
   "metadata": {},
   "source": [
    "### Huffman Coding Algorithm\n",
    "**Explanation:**\n",
    "Huffman Coding is a widely used algorithm for lossless data compression. It assigns variable-length codes to input characters, with shorter codes assigned to more frequent characters."
   ]
  },
  {
   "cell_type": "code",
   "execution_count": null,
   "id": "9f2b0551",
   "metadata": {},
   "outputs": [],
   "source": [
    "\n",
    "import heapq\n",
    "from collections import defaultdict\n",
    "\n",
    "class Node:\n",
    "    def __init__(self, char, freq):\n",
    "        self.char = char\n",
    "        self.freq = freq\n",
    "        self.left = None\n",
    "        self.right = None\n",
    "        \n",
    "    def __lt__(self, other):\n",
    "        return self.freq < other.freq\n",
    "\n",
    "def huffman_encoding(data):\n",
    "    # Step 1: Calculate frequency of each character\n",
    "    freq = defaultdict(int)\n",
    "    for char in data:\n",
    "        freq[char] += 1\n",
    "    \n",
    "    # Step 2: Build the min-heap\n",
    "    heap = [Node(char, freq) for char, freq in freq.items()]\n",
    "    heapq.heapify(heap)\n",
    "    \n",
    "    # Step 3: Build the Huffman Tree\n",
    "    while len(heap) > 1:\n",
    "        left = heapq.heappop(heap)\n",
    "        right = heapq.heappop(heap)\n",
    "        merged = Node(None, left.freq + right.freq)\n",
    "        merged.left = left\n",
    "        merged.right = right\n",
    "        heapq.heappush(heap, merged)\n",
    "    \n",
    "    # Step 4: Generate Huffman Codes\n",
    "    def generate_codes(node, code=\"\"):\n",
    "        if node is None:\n",
    "            return {}\n",
    "        if node.char is not None:\n",
    "            return {node.char: code}\n",
    "        codes = {}\n",
    "        codes.update(generate_codes(node.left, code + \"0\"))\n",
    "        codes.update(generate_codes(node.right, code + \"1\"))\n",
    "        return codes\n",
    "\n",
    "    root = heap[0]\n",
    "    return generate_codes(root)\n",
    "\n",
    "# Example usage:\n",
    "data = \"this is an example for huffman encoding\"\n",
    "codes = huffman_encoding(data)\n",
    "print(\"Huffman Codes:\", codes)\n"
   ]
  },
  {
   "cell_type": "markdown",
   "id": "29536e2f",
   "metadata": {},
   "source": [
    "### Detect Cycle in a Directed Graph\n",
    "**Explanation:**\n",
    "A cycle in a directed graph is a path that starts and ends at the same vertex, traversing through other vertices. We can detect cycles using Depth First Search (DFS)."
   ]
  },
  {
   "cell_type": "code",
   "execution_count": null,
   "id": "607b9322",
   "metadata": {},
   "outputs": [],
   "source": [
    "\n",
    "def detect_cycle(graph):\n",
    "    visited = set()\n",
    "    rec_stack = set()\n",
    "\n",
    "    def dfs(node):\n",
    "        if node in rec_stack:\n",
    "            return True  # Cycle detected\n",
    "        if node in visited:\n",
    "            return False\n",
    "        \n",
    "        visited.add(node)\n",
    "        rec_stack.add(node)\n",
    "        \n",
    "        for neighbor in graph[node]:\n",
    "            if dfs(neighbor):\n",
    "                return True\n",
    "        \n",
    "        rec_stack.remove(node)\n",
    "        return False\n",
    "\n",
    "    for node in graph:\n",
    "        if node not in visited:\n",
    "            if dfs(node):\n",
    "                return True\n",
    "    return False\n",
    "\n",
    "# Example usage:\n",
    "graph = {\n",
    "    0: [1],\n",
    "    1: [2],\n",
    "    2: [0]\n",
    "}\n",
    "print(\"Graph has cycle:\", detect_cycle(graph))\n"
   ]
  },
  {
   "cell_type": "markdown",
   "id": "eda99eb1",
   "metadata": {},
   "source": [
    "### A* Algorithm\n",
    "**Explanation:**\n",
    "The A* Algorithm is a pathfinding algorithm that finds the shortest path from a starting node to a goal node while considering both the actual cost to reach a node and the estimated cost (heuristic) to reach the goal."
   ]
  },
  {
   "cell_type": "code",
   "execution_count": null,
   "id": "9be44002",
   "metadata": {},
   "outputs": [],
   "source": [
    "\n",
    "import heapq\n",
    "\n",
    "def a_star(start, goal, graph, heuristic):\n",
    "    open_list = []\n",
    "    heapq.heappush(open_list, (0 + heuristic[start], start))  # (f, node)\n",
    "    g_cost = {start: 0}\n",
    "    came_from = {}\n",
    "\n",
    "    while open_list:\n",
    "        current_f, current_node = heapq.heappop(open_list)\n",
    "\n",
    "        if current_node == goal:\n",
    "            path = []\n",
    "            while current_node in came_from:\n",
    "                path.append(current_node)\n",
    "                current_node = came_from[current_node]\n",
    "            path.append(start)\n",
    "            return path[::-1]  # Reverse the path\n",
    "\n",
    "        for neighbor, cost in graph[current_node]:\n",
    "            tentative_g = g_cost[current_node] + cost\n",
    "            if neighbor not in g_cost or tentative_g < g_cost[neighbor]:\n",
    "                g_cost[neighbor] = tentative_g\n",
    "                f = tentative_g + heuristic[neighbor]\n",
    "                heapq.heappush(open_list, (f, neighbor))\n",
    "                came_from[neighbor] = current_node\n",
    "\n",
    "    return None  # No path found\n",
    "\n",
    "# Example usage:\n",
    "graph = {\n",
    "    'A': [('B', 1), ('C', 4)],\n",
    "    'B': [('A', 1), ('C', 2), ('D', 5)],\n",
    "    'C': [('A', 4), ('B', 2), ('D', 1)],\n",
    "    'D': [('B', 5), ('C', 1)]\n",
    "}\n",
    "heuristic = {'A': 7, 'B': 6, 'C': 2, 'D': 0}  # Estimated cost to goal (D)\n",
    "print(\"Path found by A*:\", a_star('A', 'D', graph, heuristic))\n"
   ]
  },
  {
   "cell_type": "markdown",
   "id": "47b30031",
   "metadata": {},
   "source": [
    "### 12. Quick Sort\n",
    "**Explanation:** Quick Sort is a divide-and-conquer algorithm that selects a `pivot` element and partitions the other elements into subarrays, recursively sorting them."
   ]
  },
  {
   "cell_type": "code",
   "execution_count": null,
   "id": "e38d30e7",
   "metadata": {},
   "outputs": [],
   "source": [
    "\n",
    "def quick_sort(arr):\n",
    "    if len(arr) <= 1:  # Base case: if the array has one or no elements, it's already sorted\n",
    "        return arr\n",
    "    pivot = arr[len(arr) // 2]  # Choose the middle element as the pivot\n",
    "    left = [x for x in arr if x < pivot]  # Elements less than pivot\n",
    "    middle = [x for x in arr if x == pivot]  # Elements equal to pivot\n",
    "    right = [x for x in arr if x > pivot]  # Elements greater than pivot\n",
    "    return quick_sort(left) + middle + quick_sort(right)\n",
    "\n",
    "# Example usage:\n",
    "arr = [3, 6, 8, 10, 1, 2, 1]\n",
    "print(\"Sorted array:\", quick_sort(arr))\n"
   ]
  },
  {
   "cell_type": "markdown",
   "id": "963db7c1",
   "metadata": {},
   "source": [
    "### 13. Topological Sort\n",
    "**Explanation:** Topological Sort is used to order vertices in a Directed Acyclic Graph (DAG) such that for every directed edge `u → v`, vertex `u` appears before `v`."
   ]
  },
  {
   "cell_type": "code",
   "execution_count": null,
   "id": "041b877c",
   "metadata": {},
   "outputs": [],
   "source": [
    "\n",
    "from collections import defaultdict, deque\n",
    "\n",
    "def topological_sort(vertices, edges):\n",
    "    graph = defaultdict(list)\n",
    "    in_degree = {i: 0 for i in range(vertices)}  # Initialize in-degrees to 0\n",
    "    \n",
    "    # Build the graph and compute in-degrees\n",
    "    for u, v in edges:\n",
    "        graph[u].append(v)\n",
    "        in_degree[v] += 1\n",
    "    \n",
    "    # Collect nodes with in-degree of 0\n",
    "    queue = deque([v for v in in_degree if in_degree[v] == 0])\n",
    "    topo_order = []\n",
    "    \n",
    "    while queue:\n",
    "        current = queue.popleft()\n",
    "        topo_order.append(current)\n",
    "        for neighbor in graph[current]:\n",
    "            in_degree[neighbor] -= 1  # Decrement in-degree\n",
    "            if in_degree[neighbor] == 0:  # If in-degree becomes 0, add to queue\n",
    "                queue.append(neighbor)\n",
    "    \n",
    "    return topo_order\n",
    "\n",
    "# Example usage:\n",
    "vertices = 6\n",
    "edges = [(5, 2), (5, 0), (4, 0), (4, 1), (2, 3), (3, 1)]\n",
    "print(\"Topological Order:\", topological_sort(vertices, edges))\n"
   ]
  },
  {
   "cell_type": "markdown",
   "id": "ac90e08d",
   "metadata": {},
   "source": [
    "### 14. Zigzag Traversal of a Matrix\n",
    "**Explanation:** Traverses a matrix in a zigzag pattern by alternating between downward-diagonal and upward-diagonal directions."
   ]
  },
  {
   "cell_type": "code",
   "execution_count": null,
   "id": "2d0832fe",
   "metadata": {},
   "outputs": [],
   "source": [
    "\n",
    "def zigzag_traversal(matrix):\n",
    "    rows, cols = len(matrix), len(matrix[0])\n",
    "    result = []\n",
    "    for line in range(1, (rows + cols)):\n",
    "        start_col = max(0, line - rows)\n",
    "        count = min(line, (cols - start_col), rows)\n",
    "        for j in range(count):\n",
    "            if line % 2 == 0:  # Even line: traverse upward\n",
    "                result.append(matrix[min(rows, line) - j - 1][start_col + j])\n",
    "            else:  # Odd line: traverse downward\n",
    "                result.append(matrix[j][line - j - 1])\n",
    "    return result\n",
    "\n",
    "# Example usage:\n",
    "matrix = [\n",
    "    [1, 2, 3],\n",
    "    [4, 5, 6],\n",
    "    [7, 8, 9]\n",
    "]\n",
    "print(\"Zigzag Traversal:\", zigzag_traversal(matrix))\n"
   ]
  },
  {
   "cell_type": "markdown",
   "id": "e8643070",
   "metadata": {},
   "source": [
    "### 15. Preorder Traversal of a Binary Tree\n",
    "**Explanation:** Visits nodes in the order: **Root → Left → Right**."
   ]
  },
  {
   "cell_type": "code",
   "execution_count": null,
   "id": "e69f4e77",
   "metadata": {},
   "outputs": [],
   "source": [
    "\n",
    "class TreeNode:\n",
    "    def __init__(self, val=0, left=None, right=None):\n",
    "        self.val = val\n",
    "        self.left = left\n",
    "        self.right = right\n",
    "\n",
    "def preorder_traversal(root):\n",
    "    if not root:\n",
    "        return []\n",
    "    return [root.val] + preorder_traversal(root.left) + preorder_traversal(root.right)\n",
    "\n",
    "# Example usage:\n",
    "root = TreeNode(1)\n",
    "root.right = TreeNode(2)\n",
    "root.right.left = TreeNode(3)\n",
    "print(\"Preorder Traversal:\", preorder_traversal(root))\n"
   ]
  },
  {
   "cell_type": "markdown",
   "id": "684ea46e",
   "metadata": {},
   "source": [
    "### 16. Inorder Traversal of a Binary Tree\n",
    "**Explanation:** Visits nodes in the order: **Left → Root → Right**."
   ]
  },
  {
   "cell_type": "code",
   "execution_count": null,
   "id": "512a2270",
   "metadata": {},
   "outputs": [],
   "source": [
    "\n",
    "def inorder_traversal(root):\n",
    "    if not root:\n",
    "        return []\n",
    "    return inorder_traversal(root.left) + [root.val] + inorder_traversal(root.right)\n",
    "\n",
    "# Example usage:\n",
    "print(\"Inorder Traversal:\", inorder_traversal(root))\n"
   ]
  },
  {
   "cell_type": "markdown",
   "id": "06e8c6eb",
   "metadata": {},
   "source": [
    "### 17. Postorder Traversal of a Binary Tree\n",
    "**Explanation:** Visits nodes in the order: **Left → Right → Root**."
   ]
  },
  {
   "cell_type": "code",
   "execution_count": null,
   "id": "a94a642e",
   "metadata": {},
   "outputs": [],
   "source": [
    "\n",
    "def postorder_traversal(root):\n",
    "    if not root:\n",
    "        return []\n",
    "    return postorder_traversal(root.left) + postorder_traversal(root.right) + [root.val]\n",
    "\n",
    "# Example usage:\n",
    "print(\"Postorder Traversal:\", postorder_traversal(root))\n"
   ]
  },
  {
   "cell_type": "markdown",
   "id": "4cecdd6d",
   "metadata": {},
   "source": [
    "### 18. Level Order Traversal of a Binary Tree\n",
    "**Explanation:** Visits nodes level by level using a queue."
   ]
  },
  {
   "cell_type": "code",
   "execution_count": null,
   "id": "1ca49df3",
   "metadata": {},
   "outputs": [],
   "source": [
    "\n",
    "from collections import deque\n",
    "\n",
    "def level_order_traversal(root):\n",
    "    if not root:\n",
    "        return []\n",
    "    result, queue = [], deque([root])\n",
    "    while queue:\n",
    "        level = []\n",
    "        for _ in range(len(queue)):\n",
    "            node = queue.popleft()\n",
    "            level.append(node.val)\n",
    "            if node.left:\n",
    "                queue.append(node.left)\n",
    "            if node.right:\n",
    "                queue.append(node.right)\n",
    "        result.append(level)\n",
    "    return result\n",
    "\n",
    "# Example usage:\n",
    "print(\"Level Order Traversal:\", level_order_traversal(root))\n"
   ]
  },
  {
   "cell_type": "markdown",
   "id": "fd0cd978",
   "metadata": {},
   "source": [
    "### 19. Breadth First Search (BFS) in a Graph\n",
    "**Explanation:** BFS explores all vertices at the current depth level before moving to the next level. It uses a queue to track the vertices to be processed."
   ]
  },
  {
   "cell_type": "code",
   "execution_count": null,
   "id": "c5e82e98",
   "metadata": {},
   "outputs": [],
   "source": [
    "\n",
    "def bfs(graph, start):\n",
    "    visited = set()\n",
    "    queue = deque([start])\n",
    "    result = []\n",
    "    \n",
    "    while queue:\n",
    "        vertex = queue.popleft()\n",
    "        if vertex not in visited:\n",
    "            visited.add(vertex)\n",
    "            result.append(vertex)\n",
    "            queue.extend([neighbor for neighbor in graph[vertex] if neighbor not in visited])\n",
    "    \n",
    "    return result\n",
    "\n",
    "# Example usage:\n",
    "graph = {0: [1, 2], 1: [0, 3, 4], 2: [0, 4], 3: [1], 4: [1, 2]}\n",
    "print(\"BFS:\", bfs(graph, 0))\n"
   ]
  },
  {
   "cell_type": "markdown",
   "id": "ad2342bc",
   "metadata": {},
   "source": [
    "### 20. Depth First Search (DFS) in a Graph\n",
    "**Explanation:** DFS explores as far as possible along each branch before backtracking. It uses recursion or a stack."
   ]
  },
  {
   "cell_type": "code",
   "execution_count": null,
   "id": "41cb5f07",
   "metadata": {},
   "outputs": [],
   "source": [
    "\n",
    "def dfs(graph, start, visited=None):\n",
    "    if visited is None:\n",
    "        visited = set()\n",
    "    visited.add(start)\n",
    "    result = [start]\n",
    "    for neighbor in graph[start]:\n",
    "        if neighbor not in visited:\n",
    "            result.extend(dfs(graph, neighbor, visited))\n",
    "    return result\n",
    "\n",
    "# Example usage:\n",
    "print(\"DFS:\", dfs(graph, 0))\n"
   ]
  },
  {
   "cell_type": "markdown",
   "id": "6dfe838c",
   "metadata": {},
   "source": [
    "### 21. Flood Fill Algorithm\n",
    "**Explanation:** Modifies connected cells of the same color to a new color. This is typically implemented with DFS or BFS."
   ]
  },
  {
   "cell_type": "code",
   "execution_count": null,
   "id": "b21a8a2b",
   "metadata": {},
   "outputs": [],
   "source": [
    "\n",
    "def flood_fill(image, sr, sc, new_color):\n",
    "    old_color = image[sr][sc]\n",
    "    if old_color == new_color:\n",
    "        return image\n",
    "\n",
    "    def dfs(r, c):\n",
    "        if (0 <= r < len(image) and 0 <= c < len(image[0]) and image[r][c] == old_color):\n",
    "            image[r][c] = new_color\n",
    "            dfs(r + 1, c)\n",
    "            dfs(r - 1, c)\n",
    "            dfs(r, c + 1)\n",
    "            dfs(r, c - 1)\n",
    "\n",
    "    dfs(sr, sc)\n",
    "    return image\n",
    "\n",
    "# Example usage:\n",
    "image = [\n",
    "    [1, 1, 1],\n",
    "    [1, 1, 0],\n",
    "    [1, 0, 1]\n",
    "]\n",
    "print(\"Flood Fill Result:\", flood_fill(image, 1, 1, 2))\n"
   ]
  },
  {
   "cell_type": "markdown",
   "id": "771537d6",
   "metadata": {},
   "source": [
    "### 22. Kruskal's Algorithm\n",
    "**Explanation:** Finds the minimum spanning tree (MST) of a graph using a greedy approach. It sorts edges by weight and adds them to the MST if they do not form a cycle."
   ]
  },
  {
   "cell_type": "code",
   "execution_count": null,
   "id": "9e310c2b",
   "metadata": {},
   "outputs": [],
   "source": [
    "\n",
    "class UnionFind:\n",
    "    def __init__(self, n):\n",
    "        self.parent = list(range(n))\n",
    "        self.rank = [0] * n\n",
    "\n",
    "    def find(self, x):\n",
    "        if self.parent[x] != x:\n",
    "            self.parent[x] = self.find(self.parent[x])\n",
    "        return self.parent[x]\n",
    "\n",
    "    def union(self, x, y):\n",
    "        root_x = self.find(x)\n",
    "        root_y = self.find(y)\n",
    "        if root_x != root_y:\n",
    "            if self.rank[root_x] > self.rank[root_y]:\n",
    "                self.parent[root_y] = root_x\n",
    "            elif self.rank[root_x] < self.rank[root_y]:\n",
    "                self.parent[root_x] = root_y\n",
    "            else:\n",
    "                self.parent[root_y] = root_x\n",
    "                self.rank[root_x] += 1\n",
    "\n",
    "def kruskal(vertices, edges):\n",
    "    uf = UnionFind(vertices)\n",
    "    mst = []\n",
    "    edges.sort(key=lambda x: x[2])  # Sort by weight\n",
    "\n",
    "    for u, v, weight in edges:\n",
    "        if uf.find(u) != uf.find(v):\n",
    "            uf.union(u, v)\n",
    "            mst.append((u, v, weight))\n",
    "    return mst\n",
    "\n",
    "# Example usage:\n",
    "edges = [(0, 1, 10), (0, 2, 6), (0, 3, 5), (1, 3, 15), (2, 3, 4)]\n",
    "print(\"MST using Kruskal's Algorithm:\", kruskal(4, edges))\n"
   ]
  },
  {
   "cell_type": "markdown",
   "id": "0865c088",
   "metadata": {},
   "source": [
    "### 23. Floyd Warshall Algorithm\n",
    "**Explanation:**\n",
    "The Floyd Warshall algorithm finds the shortest paths between all pairs of vertices in a graph. It uses dynamic programming and is particularly useful for dense graphs or when we need shortest paths between all pairs."
   ]
  },
  {
   "cell_type": "code",
   "execution_count": null,
   "id": "7a712917",
   "metadata": {},
   "outputs": [],
   "source": [
    "\n",
    "def floyd_warshall(graph):\n",
    "    vertices = len(graph)\n",
    "    dist = [[float('inf')] * vertices for _ in range(vertices)]\n",
    "\n",
    "    # Initialize distances based on graph input\n",
    "    for i in range(vertices):\n",
    "        for j in range(vertices):\n",
    "            if i == j:\n",
    "                dist[i][j] = 0  # Distance to self is 0\n",
    "            elif graph[i][j]:\n",
    "                dist[i][j] = graph[i][j]  # Direct edge weight\n",
    "\n",
    "    # Update distances using the Floyd Warshall logic\n",
    "    for k in range(vertices):\n",
    "        for i in range(vertices):\n",
    "            for j in range(vertices):\n",
    "                if dist[i][j] > dist[i][k] + dist[k][j]:\n",
    "                    dist[i][j] = dist[i][k] + dist[k][j]\n",
    "\n",
    "    return dist\n",
    "\n",
    "# Example usage:\n",
    "graph = [\n",
    "    [0, 3, float('inf'), 5],\n",
    "    [2, 0, float('inf'), 4],\n",
    "    [float('inf'), 1, 0, float('inf')],\n",
    "    [float('inf'), float('inf'), 2, 0]\n",
    "]\n",
    "print(\"Shortest path matrix (Floyd Warshall):\", floyd_warshall(graph))\n"
   ]
  },
  {
   "cell_type": "markdown",
   "id": "00f784c2",
   "metadata": {},
   "source": [
    "### 24. Dijkstra's Algorithm\n",
    "**Explanation:**\n",
    "Dijkstra’s algorithm finds the shortest path from a single source to all other vertices in a graph. It uses a priority queue to efficiently select the next vertex to process."
   ]
  },
  {
   "cell_type": "code",
   "execution_count": null,
   "id": "a86b1e24",
   "metadata": {},
   "outputs": [],
   "source": [
    "\n",
    "import heapq\n",
    "\n",
    "def dijkstra(graph, start):\n",
    "    vertices = len(graph)\n",
    "    dist = [float('inf')] * vertices\n",
    "    dist[start] = 0\n",
    "    priority_queue = [(0, start)]  # (distance, vertex)\n",
    "\n",
    "    while priority_queue:\n",
    "        current_dist, current_vertex = heapq.heappop(priority_queue)\n",
    "        \n",
    "        # Skip processing if the distance is already optimized\n",
    "        if current_dist > dist[current_vertex]:\n",
    "            continue\n",
    "        \n",
    "        for neighbor, weight in enumerate(graph[current_vertex]):\n",
    "            if weight:  # Check for a valid edge\n",
    "                distance = current_dist + weight\n",
    "                if distance < dist[neighbor]:\n",
    "                    dist[neighbor] = distance\n",
    "                    heapq.heappush(priority_queue, (distance, neighbor))\n",
    "    \n",
    "    return dist\n",
    "\n",
    "# Example usage:\n",
    "graph = [\n",
    "    [0, 3, 0, 0, 0, 0],\n",
    "    [0, 0, 1, 0, 0, 0],\n",
    "    [0, 0, 0, 7, 0, 2],\n",
    "    [0, 0, 0, 0, 0, 0],\n",
    "    [0, 0, 0, 2, 0, 3],\n",
    "    [0, 0, 0, 0, 0, 0]\n",
    "]\n",
    "print(\"Shortest paths (Dijkstra's Algorithm):\", dijkstra(graph, 0))\n"
   ]
  },
  {
   "cell_type": "markdown",
   "id": "85dfbefb",
   "metadata": {},
   "source": [
    "### 25. Bellman Ford Algorithm\n",
    "**Explanation:**\n",
    "Bellman Ford algorithm is used to find the shortest path from a single source to all other vertices in a graph. It works even with negative weight edges, unlike Dijkstra’s algorithm."
   ]
  },
  {
   "cell_type": "code",
   "execution_count": null,
   "id": "bd1da08e",
   "metadata": {},
   "outputs": [],
   "source": [
    "\n",
    "def bellman_ford(vertices, edges, source):\n",
    "    dist = [float('inf')] * vertices\n",
    "    dist[source] = 0\n",
    "\n",
    "    # Relax edges up to (vertices - 1) times\n",
    "    for _ in range(vertices - 1):\n",
    "        for u, v, weight in edges:\n",
    "            if dist[u] != float('inf') and dist[u] + weight < dist[v]:\n",
    "                dist[v] = dist[u] + weight\n",
    "\n",
    "    # Check for negative weight cycles\n",
    "    for u, v, weight in edges:\n",
    "        if dist[u] != float('inf') and dist[u] + weight < dist[v]:\n",
    "            return \"Graph contains a negative weight cycle\"\n",
    "\n",
    "    return dist\n",
    "\n",
    "# Example usage:\n",
    "vertices = 5\n",
    "edges = [\n",
    "    (0, 1, -1),\n",
    "    (0, 2, 4),\n",
    "    (1, 2, 3),\n",
    "    (1, 3, 2),\n",
    "    (1, 4, 2),\n",
    "    (3, 2, 5),\n",
    "    (3, 1, 1),\n",
    "    (4, 3, -3)\n",
    "]\n",
    "print(\"Shortest paths (Bellman Ford):\", bellman_ford(vertices, edges, 0))\n"
   ]
  },
  {
   "cell_type": "markdown",
   "id": "353beec6",
   "metadata": {},
   "source": [
    "### Lee Algorithm\n",
    "**Explanation:**\n",
    "The Lee Algorithm is a BFS-based approach used for finding the shortest path in an unweighted grid or maze. It works by exploring neighbors in increasing order of distance from the starting point."
   ]
  },
  {
   "cell_type": "code",
   "execution_count": null,
   "id": "3f769ad7",
   "metadata": {},
   "outputs": [],
   "source": [
    "\n",
    "from collections import deque\n",
    "\n",
    "def lee_algorithm(grid, start, end):\n",
    "    rows, cols = len(grid), len(grid[0])\n",
    "    directions = [(0, 1), (1, 0), (0, -1), (-1, 0)]  # Directions: right, down, left, up\n",
    "    visited = [[False for _ in range(cols)] for _ in range(rows)]\n",
    "    queue = deque([(start[0], start[1], 0)])  # (row, col, distance)\n",
    "    visited[start[0]][start[1]] = True\n",
    "\n",
    "    while queue:\n",
    "        x, y, dist = queue.popleft()\n",
    "\n",
    "        if (x, y) == end:\n",
    "            return dist\n",
    "\n",
    "        for dx, dy in directions:\n",
    "            nx, ny = x + dx, y + dy\n",
    "            if 0 <= nx < rows and 0 <= ny < cols and not visited[nx][ny] and grid[nx][ny] == 0:\n",
    "                queue.append((nx, ny, dist + 1))\n",
    "                visited[nx][ny] = True\n",
    "\n",
    "    return -1  # Path not found\n",
    "\n",
    "# Example Usage:\n",
    "grid = [\n",
    "    [0, 1, 0, 0],\n",
    "    [0, 0, 0, 1],\n",
    "    [1, 1, 0, 0],\n",
    "    [0, 0, 0, 0]\n",
    "]\n",
    "start = (0, 0)  # Top-left corner\n",
    "end = (3, 3)  # Bottom-right corner\n",
    "print(\"Shortest path (Lee Algorithm):\", lee_algorithm(grid, start, end))\n"
   ]
  },
  {
   "cell_type": "markdown",
   "id": "7529a50e",
   "metadata": {},
   "source": [
    "### Graph Bipartite Check\n",
    "**Explanation:**\n",
    "A graph is bipartite if its vertices can be colored using two colors such that no two adjacent vertices share the same color."
   ]
  },
  {
   "cell_type": "code",
   "execution_count": null,
   "id": "e092b480",
   "metadata": {},
   "outputs": [],
   "source": [
    "\n",
    "def is_bipartite(graph):\n",
    "    color = {}\n",
    "\n",
    "    def bfs(start):\n",
    "        queue = [start]\n",
    "        color[start] = 0  # Start coloring with color 0\n",
    "        while queue:\n",
    "            node = queue.pop(0)\n",
    "            for neighbor in graph[node]:\n",
    "                if neighbor not in color:\n",
    "                    color[neighbor] = 1 - color[node]  # Assign opposite color\n",
    "                    queue.append(neighbor)\n",
    "                elif color[neighbor] == color[node]:\n",
    "                    return False\n",
    "        return True\n",
    "\n",
    "    for node in range(len(graph)):\n",
    "        if node not in color:\n",
    "            if not bfs(node):\n",
    "                return False\n",
    "    return True\n",
    "\n",
    "# Example Usage:\n",
    "graph = {\n",
    "    0: [1, 3],\n",
    "    1: [0, 2],\n",
    "    2: [1, 3],\n",
    "    3: [0, 2]\n",
    "}\n",
    "print(\"Graph is bipartite:\", is_bipartite(graph))\n"
   ]
  },
  {
   "cell_type": "markdown",
   "id": "902f28ab",
   "metadata": {},
   "source": [
    "### Union-Find Algorithm\n",
    "**Explanation:**\n",
    "Union-Find (or Disjoint Set Union, DSU) is used for efficiently managing connected components in a graph. It supports two main operations: find and union, and optimizations like path compression and union by rank."
   ]
  },
  {
   "cell_type": "code",
   "execution_count": null,
   "id": "95ba5cd4",
   "metadata": {},
   "outputs": [],
   "source": [
    "\n",
    "class UnionFind:\n",
    "    def __init__(self, size):\n",
    "        self.parent = list(range(size))\n",
    "        self.rank = [0] * size\n",
    "\n",
    "    def find(self, node):\n",
    "        if self.parent[node] != node:\n",
    "            self.parent[node] = self.find(self.parent[node])  # Path compression\n",
    "        return self.parent[node]\n",
    "\n",
    "    def union(self, x, y):\n",
    "        rootX = self.find(x)\n",
    "        rootY = self.find(y)\n",
    "\n",
    "        if rootX != rootY:\n",
    "            if self.rank[rootX] > self.rank[rootY]:\n",
    "                self.parent[rootY] = rootX\n",
    "            elif self.rank[rootX] < self.rank[rootY]:\n",
    "                self.parent[rootX] = rootY\n",
    "            else:\n",
    "                self.parent[rootY] = rootX\n",
    "                self.rank[rootX] += 1\n",
    "\n",
    "# Example Usage:\n",
    "uf = UnionFind(5)  # 5 nodes (0 to 4)\n",
    "uf.union(0, 1)\n",
    "uf.union(1, 2)\n",
    "print(\"0 and 2 are connected:\", uf.find(0) == uf.find(2))  # True\n",
    "print(\"3 and 4 are connected:\", uf.find(3) == uf.find(4))  # False\n"
   ]
  },
  {
   "cell_type": "markdown",
   "id": "59fb2e78",
   "metadata": {},
   "source": [
    "### KMP Algorithm\n",
    "**Explanation:**\n",
    "The KMP algorithm is an efficient string matching algorithm that searches for occurrences of a word (or pattern) within a main text. It improves on the brute force approach by avoiding unnecessary re-checking of previously matched characters."
   ]
  },
  {
   "cell_type": "code",
   "execution_count": null,
   "id": "45159132",
   "metadata": {},
   "outputs": [],
   "source": [
    "    \n",
    "def KMP_search(text, pattern):\n",
    "    # Create the partial match table (prefix table)\n",
    "    def build_partial_match_table(pattern):\n",
    "        table = [0] * len(pattern)\n",
    "        j = 0\n",
    "        for i in range(1, len(pattern)):\n",
    "            while j > 0 and pattern[i] != pattern[j]:\n",
    "                j = table[j - 1]\n",
    "            if pattern[i] == pattern[j]:\n",
    "                j += 1\n",
    "            table[i] = j\n",
    "        return table\n",
    "\n",
    "    table = build_partial_match_table(pattern)\n",
    "    j = 0  # Index for pattern\n",
    "    for i in range(len(text)):  # Traverse text\n",
    "        while j > 0 and text[i] != pattern[j]:\n",
    "            j = table[j - 1]  # Shift pattern based on the table\n",
    "        if text[i] == pattern[j]:\n",
    "            j += 1\n",
    "        if j == len(pattern):  # Match found\n",
    "            return i - j + 1  # Return starting index of match\n",
    "    return -1  # No match found\n",
    "\n",
    "# Example usage:\n",
    "text = \"ABABDABACDABABCABAB\"\n",
    "pattern = \"ABABCABAB\"\n",
    "print(\"Pattern found at index:\", KMP_search(text, pattern))\n"
   ]
  },
  {
   "cell_type": "markdown",
   "id": "d931b93a",
   "metadata": {},
   "source": [
    "### Euclid's Algorithm\n",
    "**Explanation:**\n",
    "Euclid’s Algorithm is used to find the **Greatest Common Divisor (GCD)** of two numbers. It works by repeatedly subtracting the smaller number from the larger one (or using division with remainder)."
   ]
  },
  {
   "cell_type": "code",
   "execution_count": null,
   "id": "a0f95257",
   "metadata": {},
   "outputs": [],
   "source": [
    "\n",
    "def euclid_gcd(a, b):\n",
    "    while b != 0:\n",
    "        a, b = b, a % b\n",
    "    return a\n",
    "\n",
    "# Example usage:\n",
    "a = 56\n",
    "b = 98\n",
    "print(\"GCD of\", a, \"and\", b, \"is:\", euclid_gcd(a, b))\n"
   ]
  },
  {
   "cell_type": "markdown",
   "id": "b5d25ec1",
   "metadata": {},
   "source": [
    "### Boyer-Moore Majority Vote Algorithm\n",
    "**Explanation:**\n",
    "The Boyer-Moore Majority Vote Algorithm is used to find the majority element (element that appears more than half the times) in an array."
   ]
  },
  {
   "cell_type": "code",
   "execution_count": null,
   "id": "2bbff8c1",
   "metadata": {},
   "outputs": [],
   "source": [
    "\n",
    "def boyer_moore_majority_vote(nums):\n",
    "    candidate, count = None, 0\n",
    "    for num in nums:\n",
    "        if count == 0:\n",
    "            candidate, count = num, 1\n",
    "        elif num == candidate:\n",
    "            count += 1\n",
    "        else:\n",
    "            count -= 1\n",
    "    return candidate\n",
    "\n",
    "# Example usage:\n",
    "nums = [3, 3, 4, 2, 4, 4, 2, 4, 4]\n",
    "print(\"Majority element is:\", boyer_moore_majority_vote(nums))\n"
   ]
  },
  {
   "cell_type": "markdown",
   "id": "fcb279fa",
   "metadata": {},
   "source": [
    "### Dutch National Flag Algorithm\n",
    "**Explanation:**\n",
    "The Dutch National Flag Algorithm is used to partition an array into three distinct regions. It is commonly used to solve the **3-way partitioning problem** (e.g., for sorting arrays with three distinct values like `0`, `1`, and `2`)."
   ]
  },
  {
   "cell_type": "code",
   "execution_count": null,
   "id": "6014b792",
   "metadata": {},
   "outputs": [],
   "source": [
    "\n",
    "def dutch_national_flag(arr):\n",
    "    low, mid, high = 0, 0, len(arr) - 1\n",
    "    while mid <= high:\n",
    "        if arr[mid] == 0:\n",
    "            arr[low], arr[mid] = arr[mid], arr[low]\n",
    "            low += 1\n",
    "            mid += 1\n",
    "        elif arr[mid] == 1:\n",
    "            mid += 1\n",
    "        else:\n",
    "            arr[mid], arr[high] = arr[high], arr[mid]\n",
    "            high -= 1\n",
    "    return arr\n",
    "\n",
    "# Example usage:\n",
    "arr = [0, 1, 2, 1, 0, 2, 1, 0]\n",
    "print(\"Array after Dutch National Flag partitioning:\", dutch_national_flag(arr))\n"
   ]
  },
  {
   "cell_type": "markdown",
   "id": "2a868485",
   "metadata": {},
   "source": [
    "### Huffman Coding Algorithm\n",
    "**Explanation:**\n",
    "Huffman Coding is a widely used algorithm for lossless data compression. It assigns variable-length codes to input characters, with shorter codes assigned to more frequent characters."
   ]
  },
  {
   "cell_type": "code",
   "execution_count": null,
   "id": "9f2b0551",
   "metadata": {},
   "outputs": [],
   "source": [
    "\n",
    "import heapq\n",
    "from collections import defaultdict\n",
    "\n",
    "class Node:\n",
    "    def __init__(self, char, freq):\n",
    "        self.char = char\n",
    "        self.freq = freq\n",
    "        self.left = None\n",
    "        self.right = None\n",
    "        \n",
    "    def __lt__(self, other):\n",
    "        return self.freq < other.freq\n",
    "\n",
    "def huffman_encoding(data):\n",
    "    # Step 1: Calculate frequency of each character\n",
    "    freq = defaultdict(int)\n",
    "    for char in data:\n",
    "        freq[char] += 1\n",
    "    \n",
    "    # Step 2: Build the min-heap\n",
    "    heap = [Node(char, freq) for char, freq in freq.items()]\n",
    "    heapq.heapify(heap)\n",
    "    \n",
    "    # Step 3: Build the Huffman Tree\n",
    "    while len(heap) > 1:\n",
    "        left = heapq.heappop(heap)\n",
    "        right = heapq.heappop(heap)\n",
    "        merged = Node(None, left.freq + right.freq)\n",
    "        merged.left = left\n",
    "        merged.right = right\n",
    "        heapq.heappush(heap, merged)\n",
    "    \n",
    "    # Step 4: Generate Huffman Codes\n",
    "    def generate_codes(node, code=\"\"):\n",
    "        if node is None:\n",
    "            return {}\n",
    "        if node.char is not None:\n",
    "            return {node.char: code}\n",
    "        codes = {}\n",
    "        codes.update(generate_codes(node.left, code + \"0\"))\n",
    "        codes.update(generate_codes(node.right, code + \"1\"))\n",
    "        return codes\n",
    "\n",
    "    root = heap[0]\n",
    "    return generate_codes(root)\n",
    "\n",
    "# Example usage:\n",
    "data = \"this is an example for huffman encoding\"\n",
    "codes = huffman_encoding(data)\n",
    "print(\"Huffman Codes:\", codes)\n"
   ]
  },
  {
   "cell_type": "markdown",
   "id": "29536e2f",
   "metadata": {},
   "source": [
    "### Detect Cycle in a Directed Graph\n",
    "**Explanation:**\n",
    "A cycle in a directed graph is a path that starts and ends at the same vertex, traversing through other vertices. We can detect cycles using Depth First Search (DFS)."
   ]
  },
  {
   "cell_type": "code",
   "execution_count": null,
   "id": "607b9322",
   "metadata": {},
   "outputs": [],
   "source": [
    "\n",
    "def detect_cycle(graph):\n",
    "    visited = set()\n",
    "    rec_stack = set()\n",
    "\n",
    "    def dfs(node):\n",
    "        if node in rec_stack:\n",
    "            return True  # Cycle detected\n",
    "        if node in visited:\n",
    "            return False\n",
    "        \n",
    "        visited.add(node)\n",
    "        rec_stack.add(node)\n",
    "        \n",
    "        for neighbor in graph[node]:\n",
    "            if dfs(neighbor):\n",
    "                return True\n",
    "        \n",
    "        rec_stack.remove(node)\n",
    "        return False\n",
    "\n",
    "    for node in graph:\n",
    "        if node not in visited:\n",
    "            if dfs(node):\n",
    "                return True\n",
    "    return False\n",
    "\n",
    "# Example usage:\n",
    "graph = {\n",
    "    0: [1],\n",
    "    1: [2],\n",
    "    2: [0]\n",
    "}\n",
    "print(\"Graph has cycle:\", detect_cycle(graph))\n"
   ]
  },
  {
   "cell_type": "markdown",
   "id": "eda99eb1",
   "metadata": {},
   "source": [
    "### A* Algorithm\n",
    "**Explanation:**\n",
    "The A* Algorithm is a pathfinding algorithm that finds the shortest path from a starting node to a goal node while considering both the actual cost to reach a node and the estimated cost (heuristic) to reach the goal."
   ]
  },
  {
   "cell_type": "code",
   "execution_count": 6,
   "id": "9be44002",
   "metadata": {},
   "outputs": [
    {
     "name": "stdout",
     "output_type": "stream",
     "text": [
      "Path found by A*: ['A', 'C', 'D']\n"
     ]
    }
   ],
   "source": [
    "\n",
    "import heapq\n",
    "\n",
    "def a_star(start, goal, graph, heuristic):\n",
    "    open_list = []\n",
    "    heapq.heappush(open_list, (0 + heuristic[start], start))  # (f, node)\n",
    "    g_cost = {start: 0}\n",
    "    came_from = {}\n",
    "\n",
    "    while open_list:\n",
    "        current_f, current_node = heapq.heappop(open_list)\n",
    "\n",
    "        if current_node == goal:\n",
    "            path = []\n",
    "            while current_node in came_from:\n",
    "                path.append(current_node)\n",
    "                current_node = came_from[current_node]\n",
    "            path.append(start)\n",
    "            return path[::-1]  # Reverse the path\n",
    "\n",
    "        for neighbor, cost in graph[current_node]:\n",
    "            tentative_g = g_cost[current_node] + cost\n",
    "            if neighbor not in g_cost or tentative_g < g_cost[neighbor]:\n",
    "                g_cost[neighbor] = tentative_g\n",
    "                f = tentative_g + heuristic[neighbor]\n",
    "                heapq.heappush(open_list, (f, neighbor))\n",
    "                came_from[neighbor] = current_node\n",
    "\n",
    "    return None  # No path found\n",
    "\n",
    "# Example usage:\n",
    "graph = {\n",
    "    'A': [('B', 1), ('C', 4)],\n",
    "    'B': [('A', 1), ('C', 2), ('D', 5)],\n",
    "    'C': [('A', 4), ('B', 2), ('D', 1)],\n",
    "    'D': [('B', 5), ('C', 1)]\n",
    "}\n",
    "heuristic = {'A': 7, 'B': 6, 'C': 2, 'D': 0}  # Estimated cost to goal (D)\n",
    "print(\"Path found by A*:\", a_star('A', 'D', graph, heuristic))\n"
   ]
  },
  {
   "cell_type": "code",
   "execution_count": null,
   "id": "bed96bfa",
   "metadata": {},
   "outputs": [],
   "source": []
  }
 ],
 "metadata": {
  "kernelspec": {
   "display_name": "genai",
   "language": "python",
   "name": "python3"
  },
  "language_info": {
   "codemirror_mode": {
    "name": "ipython",
    "version": 3
   },
   "file_extension": ".py",
   "mimetype": "text/x-python",
   "name": "python",
   "nbconvert_exporter": "python",
   "pygments_lexer": "ipython3",
   "version": "3.12.2"
  }
 },
 "nbformat": 4,
 "nbformat_minor": 5
}
