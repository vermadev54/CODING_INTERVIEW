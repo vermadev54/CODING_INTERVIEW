{
 "cells": [
  {
   "cell_type": "code",
   "execution_count": 7,
   "metadata": {},
   "outputs": [
    {
     "name": "stdout",
     "output_type": "stream",
     "text": [
      "[[1, 4], [2, 8], [3, 6]]\n"
     ]
    }
   ],
   "source": [
    "#sorting\n",
    "nums= [[1,4],[3,6],[2,8]]\n",
    "nums.sort(key=lambda x: (x[0],-x[1]))\n",
    "print(nums)"
   ]
  },
  {
   "cell_type": "code",
   "execution_count": null,
   "metadata": {},
   "outputs": [
    {
     "name": "stdout",
     "output_type": "stream",
     "text": [
      "defaultdict(<class 'list'>, {1: [4], 2: [8], 3: [6]})\n"
     ]
    }
   ],
   "source": [
    "#dictionary\n",
    "from collections import defaultdict\n",
    "event_dict = defaultdict(list)\n",
    "\n",
    "for start, end in nums:\n",
    "    event_dict[start].append(end)\n",
    "print(event_dict)"
   ]
  },
  {
   "cell_type": "code",
   "execution_count": 8,
   "metadata": {},
   "outputs": [
    {
     "name": "stdout",
     "output_type": "stream",
     "text": [
      "[4, 5, 19]\n",
      "4\n"
     ]
    }
   ],
   "source": [
    "#heapify\n",
    "from heapq import heappush, heappop, heapify\n",
    "min_heap = []\n",
    "heappush(min_heap, 5)\n",
    "heappush(min_heap, 4)\n",
    "heappush(min_heap, 19)\n",
    "print(min_heap)\n",
    "print(heappop(min_heap))\n",
    "\n",
    "#multiply by negative number to make max heap"
   ]
  },
  {
   "cell_type": "code",
   "execution_count": 9,
   "metadata": {},
   "outputs": [
    {
     "data": {
      "text/plain": [
       "Counter({'apple': 3, 'banana': 2, 'cherry': 1})"
      ]
     },
     "execution_count": 9,
     "metadata": {},
     "output_type": "execute_result"
    }
   ],
   "source": [
    "#collection\n",
    "from collections import Counter\n",
    "words = [\"apple\", \"banana\", \"cherry\", \"apple\", \"banana\", \"apple\"] \n",
    "cnt = Counter(words)\n",
    "cnt"
   ]
  },
  {
   "cell_type": "code",
   "execution_count": 11,
   "metadata": {},
   "outputs": [
    {
     "data": {
      "text/plain": [
       "['apple', 'banana', 'cherry']"
      ]
     },
     "execution_count": 11,
     "metadata": {},
     "output_type": "execute_result"
    }
   ],
   "source": [
    "#dictionory shorting\n",
    "sorted_words = sorted(cnt, key=lambda x: (-cnt[x], x))\n",
    "sorted_words"
   ]
  },
  {
   "cell_type": "code",
   "execution_count": 12,
   "metadata": {},
   "outputs": [],
   "source": [
    "from typing import List\n",
    "from itertools import accumulate"
   ]
  },
  {
   "cell_type": "code",
   "execution_count": null,
   "metadata": {},
   "outputs": [
    {
     "name": "stdout",
     "output_type": "stream",
     "text": [
      "[0, 0, 1, 3, 6, 8, 7, 5, 10, 7, 5, 0]\n"
     ]
    }
   ],
   "source": [
    "#line swipe algo\n",
    "meeting_delta=[0,0,1,2,3,2,-1,-2,5,-3,-2,-5]\n",
    "print(list(accumulate(meeting_delta)))"
   ]
  },
  {
   "cell_type": "code",
   "execution_count": 21,
   "metadata": {},
   "outputs": [
    {
     "data": {
      "text/plain": [
       "[(7, 1), (1, 5), (5, 3), (3, 6), (6, 4)]"
      ]
     },
     "execution_count": 21,
     "metadata": {},
     "output_type": "execute_result"
    }
   ],
   "source": [
    "from itertools import pairwise\n",
    "prices=[7,1,5,3,6,4]\n",
    "list(pairwise(prices))\n"
   ]
  },
  {
   "cell_type": "code",
   "execution_count": 4,
   "metadata": {},
   "outputs": [
    {
     "name": "stdout",
     "output_type": "stream",
     "text": [
      "(1, 'Riya')\n",
      "(2, 'Harry')\n",
      "(3, 'Charles')\n",
      "(4, 'Stacy')\n"
     ]
    }
   ],
   "source": [
    "from queue import PriorityQueue\n",
    "customers = PriorityQueue() #we initialise the PQ class instead of using a function to operate upon a list. \n",
    "customers.put((2, \"Harry\"))\n",
    "customers.put((3, \"Charles\"))\n",
    "customers.put((1, \"Riya\"))\n",
    "customers.put((4, \"Stacy\"))\n",
    "while not ( customers.empty()):\n",
    "     print(customers.get())\n"
   ]
  },
  {
   "cell_type": "code",
   "execution_count": 6,
   "metadata": {},
   "outputs": [
    {
     "name": "stdout",
     "output_type": "stream",
     "text": [
      "Priority: 2, Task: {'name': 'Task 3', 'priority': 2}\n",
      "Priority: 3, Task: {'name': 'Task 1', 'priority': 3}\n",
      "Priority: 8, Task: {'name': 'Task 2', 'priority': 8}\n"
     ]
    }
   ],
   "source": [
    "# List of dictionaries\n",
    "tasks = [\n",
    "    {\"name\": \"Task 1\", \"priority\": 3},\n",
    "    {\"name\": \"Task 2\", \"priority\": 8},\n",
    "    {\"name\": \"Task 3\", \"priority\": 2},\n",
    "]\n",
    "\n",
    "# Create a priority queue\n",
    "pq = PriorityQueue()\n",
    "\n",
    "# Push dictionaries into the priority queue using the 'priority' key\n",
    "for task in tasks:\n",
    "    pq.put((task[\"priority\"], task))  # (priority, dictionary)\n",
    "\n",
    "# Retrieve items in ascending order of priority\n",
    "while not pq.empty():\n",
    "    priority, task = pq.get()\n",
    "    print(f\"Priority: {priority}, Task: {task}\")"
   ]
  },
  {
   "cell_type": "code",
   "execution_count": 7,
   "metadata": {},
   "outputs": [
    {
     "name": "stdout",
     "output_type": "stream",
     "text": [
      "Task: Task(name=Task 2, priority=1)\n",
      "Task: Task(name=Task 3, priority=2)\n",
      "Task: Task(name=Task 1, priority=3)\n"
     ]
    }
   ],
   "source": [
    "from queue import PriorityQueue\n",
    "\n",
    "# Custom class for tasks\n",
    "class Task:\n",
    "    def __init__(self, name, priority):\n",
    "        self.name = name\n",
    "        self.priority = priority\n",
    "\n",
    "    def __lt__(self, other):\n",
    "        # Define priority based on 'priority' attribute\n",
    "        return self.priority < other.priority\n",
    "\n",
    "    def __repr__(self):\n",
    "        return f\"Task(name={self.name}, priority={self.priority})\"\n",
    "\n",
    "# Create a PriorityQueue\n",
    "pq = PriorityQueue()\n",
    "\n",
    "# Add tasks to the queue\n",
    "pq.put(Task(\"Task 1\", 3))  # Priority 3\n",
    "pq.put(Task(\"Task 2\", 1))  # Priority 1\n",
    "pq.put(Task(\"Task 3\", 2))  # Priority 2\n",
    "\n",
    "# Retrieve tasks in order of priority\n",
    "while not pq.empty():\n",
    "    task = pq.get()\n",
    "    print(f\"Task: {task}\")"
   ]
  },
  {
   "cell_type": "code",
   "execution_count": 1,
   "metadata": {},
   "outputs": [
    {
     "data": {
      "text/plain": [
       "720"
      ]
     },
     "execution_count": 1,
     "metadata": {},
     "output_type": "execute_result"
    }
   ],
   "source": [
    "from math import factorial\n",
    "factorial(6)"
   ]
  },
  {
   "cell_type": "code",
   "execution_count": null,
   "metadata": {},
   "outputs": [],
   "source": []
  }
 ],
 "metadata": {
  "kernelspec": {
   "display_name": "genai",
   "language": "python",
   "name": "python3"
  },
  "language_info": {
   "codemirror_mode": {
    "name": "ipython",
    "version": 3
   },
   "file_extension": ".py",
   "mimetype": "text/x-python",
   "name": "python",
   "nbconvert_exporter": "python",
   "pygments_lexer": "ipython3",
   "version": "3.12.2"
  }
 },
 "nbformat": 4,
 "nbformat_minor": 2
}
